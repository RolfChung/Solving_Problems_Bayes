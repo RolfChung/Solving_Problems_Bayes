{
 "cells": [
  {
   "cell_type": "markdown",
   "id": "administrative-anger",
   "metadata": {},
   "source": [
    "# Summary\n",
    "\n",
    "<p>\n",
    "The main focus here is <b>probability calculus</b> for solving problems.<br>\n",
    "The central idea is that calculating probabilities requires an understanding of the events involved and this is more important than the actual mechanical calculations.<br>\n",
    "For example are the events independent (mutually exclusive) or dependent?<br>\n",
    "Are the events occurring simultaenously or not, conditional or not?<br>\n",
    "The probability laws are structuring the understanding of probability\n",
    "and point to the Bayes' theorem.\n",
    "</p> \n",
    "\n",
    "<p>\n",
    "However even before probability calculus tools like random number generation\n",
    "and combinatorics are very helpful for setting the ground and working with problems.\n",
    "</p> \n",
    "\n",
    "<p>    \n",
    "The project here covers topics like:\n",
    "</p> \n",
    "\n",
    "<p>\n",
    "<ul>\n",
    "  <li>Random numbers generation</li>\n",
    "  <li>Combinations and permutations</li>\n",
    "  <li>Joint probabilities</li>\n",
    "  <li>Conditional probabilities</li>\n",
    "  <li>Total Probability</li>\n",
    "  <li>Bayes theorem</li>\n",
    "</ul>\n",
    "</p> "
   ]
  },
  {
   "cell_type": "markdown",
   "id": "postal-strengthening",
   "metadata": {},
   "source": [
    "## Install packages"
   ]
  },
  {
   "cell_type": "code",
   "execution_count": 731,
   "id": "explicit-brick",
   "metadata": {},
   "outputs": [],
   "source": [
    "import pandas as pd\n",
    "import matplotlib.pyplot as plt\n",
    "%matplotlib inline\n",
    "import seaborn as sns\n",
    "import numpy as np\n",
    "import collections\n",
    "import statistics\n",
    "import scipy.stats as stats\n",
    "import math\n",
    "\n",
    "import itertools\n",
    "from itertools import combinations_with_replacement\n",
    "from itertools import combinations\n",
    "from itertools import permutations"
   ]
  },
  {
   "cell_type": "markdown",
   "id": "continuous-anger",
   "metadata": {},
   "source": [
    "### Random numbers generation\n",
    "\n",
    "<p>\n",
    "Before starting with probability experiments random numbers are needed.\n",
    "Carefully conducted observations can give these numbers or Python offers\n",
    "numerous number generation functions. Below are only some of those tuned\n",
    "for Bernoulli experiments.\n",
    "</p> \n"
   ]
  },
  {
   "cell_type": "code",
   "execution_count": 732,
   "id": "skilled-custom",
   "metadata": {},
   "outputs": [
    {
     "name": "stdout",
     "output_type": "stream",
     "text": [
      "[0 0 1 0 1 1 1 1 1 1]\n"
     ]
    }
   ],
   "source": [
    "int_1 = np.random.randint(2, size=10)\n",
    "print(int_1)"
   ]
  },
  {
   "cell_type": "markdown",
   "id": "hollow-anger",
   "metadata": {},
   "source": [
    "Gathering more info on the generated numbers."
   ]
  },
  {
   "cell_type": "code",
   "execution_count": 733,
   "id": "australian-union",
   "metadata": {},
   "outputs": [
    {
     "name": "stdout",
     "output_type": "stream",
     "text": [
      "<class 'numpy.ndarray'>\n",
      "(10,)\n"
     ]
    }
   ],
   "source": [
    "print(type(int_1))\n",
    "print(np.shape(int_1))"
   ]
  },
  {
   "cell_type": "code",
   "execution_count": 734,
   "id": "uniform-vehicle",
   "metadata": {},
   "outputs": [
    {
     "data": {
      "text/plain": [
       "array([0, 1])"
      ]
     },
     "execution_count": 734,
     "metadata": {},
     "output_type": "execute_result"
    }
   ],
   "source": [
    "np.unique(int_1)"
   ]
  },
  {
   "cell_type": "markdown",
   "id": "headed-eclipse",
   "metadata": {},
   "source": [
    "A shortcut for finding the number of unique values."
   ]
  },
  {
   "cell_type": "code",
   "execution_count": 735,
   "id": "japanese-ethnic",
   "metadata": {},
   "outputs": [
    {
     "data": {
      "text/plain": [
       "RepeatedResults(values=array([0., 1.]), counts=array([3, 7], dtype=int64))"
      ]
     },
     "execution_count": 735,
     "metadata": {},
     "output_type": "execute_result"
    }
   ],
   "source": [
    "stats.find_repeats(int_1)"
   ]
  },
  {
   "cell_type": "markdown",
   "id": "technological-highland",
   "metadata": {},
   "source": [
    "\"np.random.rand\" generates a uniform distribution between 0 and 1.\n",
    "This is good for generating probabilities."
   ]
  },
  {
   "cell_type": "code",
   "execution_count": 736,
   "id": "massive-above",
   "metadata": {},
   "outputs": [
    {
     "name": "stdout",
     "output_type": "stream",
     "text": [
      "[0.44805886 0.34941852 0.30649525 0.8967194  0.24564391 0.06353442\n",
      " 0.69622234 0.72777047 0.98804057 0.9765814 ]\n",
      "(10,)\n",
      "[0.44805886 0.34941852 0.30649525 0.8967194  0.24564391 0.06353442\n",
      " 0.69622234 0.72777047 0.98804057 0.9765814 ]\n",
      "[0.06353442 0.24564391 0.30649525 0.34941852 0.44805886 0.69622234\n",
      " 0.72777047 0.8967194  0.9765814  0.98804057]\n",
      "RepeatedResults(values=array([], dtype=float64), counts=array([], dtype=int64))\n"
     ]
    }
   ],
   "source": [
    "# generates a uniform distribution between 0 and 1\n",
    "random_floats1 = np.random.rand(10)\n",
    "\n",
    "print(random_floats1)\n",
    "print(np.shape(random_floats1))\n",
    "print(random_floats1)\n",
    "print(np.unique(random_floats1))\n",
    "print(stats.find_repeats(random_floats1))"
   ]
  },
  {
   "cell_type": "code",
   "execution_count": 737,
   "id": "universal-tyler",
   "metadata": {},
   "outputs": [
    {
     "name": "stdout",
     "output_type": "stream",
     "text": [
      "<class 'numpy.ndarray'>\n",
      "(10,)\n",
      "[0 0 1 0 0 1 1 1 0 1]\n",
      "[0 1]\n",
      "RepeatedResults(values=array([0., 1.]), counts=array([5, 5], dtype=int64))\n"
     ]
    }
   ],
   "source": [
    "choice_1 = np.random.choice(2,10)\n",
    "\n",
    "print(type(choice_1))\n",
    "print(np.shape(choice_1))\n",
    "print(choice_1)\n",
    "print(np.unique(choice_1))\n",
    "print(stats.find_repeats(choice_1))"
   ]
  },
  {
   "cell_type": "code",
   "execution_count": 738,
   "id": "preceding-radical",
   "metadata": {},
   "outputs": [
    {
     "name": "stdout",
     "output_type": "stream",
     "text": [
      "<class 'numpy.ndarray'>\n",
      "(10, 2)\n",
      "[[1 1]\n",
      " [1 0]\n",
      " [1 0]\n",
      " [0 0]\n",
      " [0 1]\n",
      " [1 0]\n",
      " [1 0]\n",
      " [0 0]\n",
      " [0 0]\n",
      " [0 0]]\n",
      "[0 1]\n",
      "RepeatedResults(values=array([0., 1.]), counts=array([13,  7], dtype=int64))\n"
     ]
    }
   ],
   "source": [
    "# size 2dim array 10 rows, 2 cols\n",
    "choice_2 = np.random.choice(2, size=(10,2))\n",
    "\n",
    "print(type(choice_2 ))\n",
    "print(np.shape(choice_2 ))\n",
    "print(choice_2 )\n",
    "print(np.unique(choice_2))\n",
    "print(stats.find_repeats(choice_2))"
   ]
  },
  {
   "cell_type": "markdown",
   "id": "surprised-mattress",
   "metadata": {},
   "source": [
    "Specially created for binomial experiments.<br>\n",
    "P = 0.5 is a fair coin. Both 0 an 1 are likely equal outcomes."
   ]
  },
  {
   "cell_type": "code",
   "execution_count": 739,
   "id": "soviet-rainbow",
   "metadata": {},
   "outputs": [
    {
     "name": "stdout",
     "output_type": "stream",
     "text": [
      "[1 1 1 0 0 0 1 1 0 1 0 1 1 0 0 1 0 0 1 1 1 0 0 0 1 1 0 0 1 1 1 0 1 0 1 0 1\n",
      " 1 1 1 0 1 1 1 0 0 1 1 1 0]\n"
     ]
    }
   ],
   "source": [
    "binom_n1 = stats.binom.rvs(n=1, p=0.5, size=10000)\n",
    "print(binom_n1[:50])"
   ]
  },
  {
   "cell_type": "code",
   "execution_count": 740,
   "id": "japanese-footage",
   "metadata": {},
   "outputs": [
    {
     "name": "stdout",
     "output_type": "stream",
     "text": [
      "<class 'numpy.ndarray'>\n",
      "(10000,)\n",
      "[1 1 1 ... 1 1 0]\n",
      "RepeatedResults(values=array([0., 1.]), counts=array([5058, 4942], dtype=int64))\n"
     ]
    }
   ],
   "source": [
    "print(type(binom_n1))\n",
    "print(np.shape(binom_n1 ))\n",
    "print(binom_n1)\n",
    "print(stats.find_repeats(binom_n1))"
   ]
  },
  {
   "cell_type": "code",
   "execution_count": 741,
   "id": "electoral-webcam",
   "metadata": {},
   "outputs": [],
   "source": [
    "# help(stats.find_repeats)"
   ]
  },
  {
   "cell_type": "markdown",
   "id": "sharp-harvey",
   "metadata": {},
   "source": [
    "<b>Relative frequencies</b><br>\n",
    "Frequency relative to total numbers n:"
   ]
  },
  {
   "cell_type": "code",
   "execution_count": 742,
   "id": "ecological-century",
   "metadata": {},
   "outputs": [
    {
     "data": {
      "text/plain": [
       "0    5058\n",
       "1    4942\n",
       "dtype: int64"
      ]
     },
     "execution_count": 742,
     "metadata": {},
     "output_type": "execute_result"
    }
   ],
   "source": [
    "pd.Series(binom_n1).value_counts()"
   ]
  },
  {
   "cell_type": "code",
   "execution_count": 743,
   "id": "supported-syndicate",
   "metadata": {},
   "outputs": [
    {
     "name": "stdout",
     "output_type": "stream",
     "text": [
      "0.6\n",
      "0.4\n"
     ]
    }
   ],
   "source": [
    "rel_11 = 6/10\n",
    "print(rel_11)\n",
    "\n",
    "rel_01 = 4/10\n",
    "print(rel_01)"
   ]
  },
  {
   "cell_type": "markdown",
   "id": "continental-package",
   "metadata": {},
   "source": [
    "<p>\n",
    "Determining relative frequencies  as building blocks\n",
    "for probability calculations.\n",
    "</p> \n",
    "<p>\n",
    "This is a random sample from 0 to 3 representing of two coin flips:\n",
    "(0,0): head / head = 0; (1,1): tail / tail = 1; (1/0): tail / head = 2, (0,1): head / tail = 3\n",
    "</p> \n"
   ]
  },
  {
   "cell_type": "code",
   "execution_count": 744,
   "id": "martial-ordering",
   "metadata": {},
   "outputs": [
    {
     "name": "stdout",
     "output_type": "stream",
     "text": [
      "[2 2 2 1 0 2 1 3 1 0]\n"
     ]
    }
   ],
   "source": [
    "sample_2coins = stats.binom.rvs(n=3, p=0.5, size=10000)\n",
    "print(sample_2coins[:10])"
   ]
  },
  {
   "cell_type": "code",
   "execution_count": 745,
   "id": "welsh-aviation",
   "metadata": {},
   "outputs": [
    {
     "name": "stdout",
     "output_type": "stream",
     "text": [
      "RepeatedResults(values=array([0., 1., 2., 3.]), counts=array([1256, 3719, 3684, 1341], dtype=int64))\n",
      "[1256 3719 3684 1341]\n"
     ]
    }
   ],
   "source": [
    "print(stats.find_repeats(sample_2coins))\n",
    "print(stats.find_repeats(sample_2coins).counts)"
   ]
  },
  {
   "cell_type": "code",
   "execution_count": 746,
   "id": "exotic-industry",
   "metadata": {},
   "outputs": [
    {
     "name": "stdout",
     "output_type": "stream",
     "text": [
      "1341\n"
     ]
    }
   ],
   "source": [
    "samp2_0 = stats.find_repeats(sample_2coins).counts[0]\n",
    "samp2_1 = stats.find_repeats(sample_2coins).counts[1]\n",
    "samp2_2 = stats.find_repeats(sample_2coins).counts[2]\n",
    "samp2_3 = stats.find_repeats(sample_2coins).counts[3]\n",
    "\n",
    "print(samp2_3)"
   ]
  },
  {
   "cell_type": "code",
   "execution_count": 747,
   "id": "continent-teaching",
   "metadata": {},
   "outputs": [
    {
     "name": "stdout",
     "output_type": "stream",
     "text": [
      "{0: 0.1256, 1: 0.3719, 2: 0.3684, 3: 0.1341}\n",
      "1.0\n"
     ]
    }
   ],
   "source": [
    "# calculating the probas of the possibilities based on the generated sample\n",
    "samp2_freq = [samp2_0, samp2_1 , samp2_2, samp2_3]\n",
    "samp2_proba = {}\n",
    "\n",
    "for k,i in enumerate(samp2_freq):\n",
    "    proba = i/10000\n",
    "    samp2_proba[k] = proba\n",
    "\n",
    "print(samp2_proba)\n",
    "print(np.sum(list(samp2_proba.values())))"
   ]
  },
  {
   "cell_type": "markdown",
   "id": "unique-accountability",
   "metadata": {},
   "source": [
    "Python offers a function to calculate the relative frequencises (relfreq)."
   ]
  },
  {
   "cell_type": "code",
   "execution_count": 748,
   "id": "regulated-procedure",
   "metadata": {},
   "outputs": [
    {
     "name": "stdout",
     "output_type": "stream",
     "text": [
      "RelfreqResult(frequency=array([0.5058, 0.4942]), lowerlimit=-0.5, binsize=1.0, extrapoints=0)\n",
      "[0.5058 0.4942]\n"
     ]
    }
   ],
   "source": [
    "rel_n1 = stats.relfreq(binom_n1, numbins=2)\n",
    "\n",
    "print(rel_n1)\n",
    "print(rel_n1.frequency)\n"
   ]
  },
  {
   "cell_type": "code",
   "execution_count": 749,
   "id": "comparative-share",
   "metadata": {},
   "outputs": [],
   "source": [
    "# help(stats.relfreq)"
   ]
  },
  {
   "cell_type": "code",
   "execution_count": 750,
   "id": "peripheral-fountain",
   "metadata": {},
   "outputs": [
    {
     "name": "stdout",
     "output_type": "stream",
     "text": [
      "[-0.5  1.5]\n"
     ]
    }
   ],
   "source": [
    "rel_n1_x = (rel_n1.lowerlimit) + \\\n",
    "            np.linspace(start=0, \n",
    "            stop=rel_n1.binsize*rel_n1.frequency.size, \n",
    "            num=rel_n1.frequency.size)\n",
    "\n",
    "print(rel_n1_x)"
   ]
  },
  {
   "cell_type": "code",
   "execution_count": 751,
   "id": "decimal-redhead",
   "metadata": {},
   "outputs": [
    {
     "data": {
      "image/png": "[encoded data removed]",
      "text/plain": [
       "<Figure size 432x288 with 1 Axes>"
      ]
     },
     "metadata": {
      "needs_background": "light"
     },
     "output_type": "display_data"
    }
   ],
   "source": [
    "fig = plt.figure(figsize=(6, 4))\n",
    "\n",
    "ax = fig.add_subplot(1, 1, 1)\n",
    "ax.grid(color='maroon', linestyle=':', linewidth=0.5)\n",
    "\n",
    "ax.bar(rel_n1_x, rel_n1.frequency, \n",
    "       width=rel_n1.binsize, edgecolor=\"red\", linewidth=3, color=\"gold\")\n",
    "ax.set_title('Relative frequency histogram')\n",
    "# ax.set_xlim([rel_n1_x.min(), rel_n1_x.max()])\n",
    "ax.set_xticks(ticks=[0,1], minor=False)\n",
    "\n",
    "plt.savefig(\"Relative freq 1\")\n",
    "plt.show()"
   ]
  },
  {
   "cell_type": "markdown",
   "id": "greatest-testimony",
   "metadata": {},
   "source": [
    "Because of the law of large numbers after 10.000 trials the outcome proportians are relatively equal."
   ]
  },
  {
   "cell_type": "code",
   "execution_count": 752,
   "id": "polished-parts",
   "metadata": {},
   "outputs": [
    {
     "name": "stdout",
     "output_type": "stream",
     "text": [
      "[4 5 7 6 4 8 6 4 5 6 4 5 6 5 7 7 6 2 5 4]\n"
     ]
    }
   ],
   "source": [
    "# binomial but not Bernoulli\n",
    "binom_n2 = stats.binom.rvs(n=10, p=0.5, size=10000)\n",
    "print(binom_n2[:20])"
   ]
  },
  {
   "cell_type": "code",
   "execution_count": 753,
   "id": "conventional-remedy",
   "metadata": {},
   "outputs": [
    {
     "name": "stdout",
     "output_type": "stream",
     "text": [
      "RepeatedResults(values=array([ 0.,  1.,  2.,  3.,  4.,  5.,  6.,  7.,  8.,  9., 10.]), counts=array([  13,   85,  456, 1169, 2022, 2471, 2029, 1204,  425,  114,   12],\n",
      "      dtype=int64))\n"
     ]
    }
   ],
   "source": [
    "print(stats.find_repeats(binom_n2))"
   ]
  },
  {
   "cell_type": "code",
   "execution_count": 754,
   "id": "still-japan",
   "metadata": {},
   "outputs": [
    {
     "name": "stdout",
     "output_type": "stream",
     "text": [
      "RelfreqResult(frequency=array([0.0013, 0.0085, 0.0456, 0.1169, 0.2022, 0.45  , 0.1204, 0.0425,\n",
      "       0.0114, 0.0012]), lowerlimit=-0.5555555555555556, binsize=1.1111111111111112, extrapoints=0)\n",
      "10\n"
     ]
    }
   ],
   "source": [
    "rel_n2 =  stats.relfreq(binom_n2, 10)\n",
    "print(rel_n2)\n",
    "print(rel_n2.frequency.size)"
   ]
  },
  {
   "cell_type": "code",
   "execution_count": 755,
   "id": "included-worker",
   "metadata": {},
   "outputs": [
    {
     "name": "stdout",
     "output_type": "stream",
     "text": [
      "2\n",
      "[0.5058 0.4942]\n",
      "-0.5\n",
      "1.0\n"
     ]
    }
   ],
   "source": [
    "print(rel_n1.frequency.size)\n",
    "print(rel_n1.frequency)\n",
    "print(rel_n1.lowerlimit)\n",
    "print(rel_n1.binsize)"
   ]
  },
  {
   "cell_type": "code",
   "execution_count": 756,
   "id": "textile-expert",
   "metadata": {},
   "outputs": [
    {
     "data": {
      "text/plain": [
       "array([-0.55555556,  0.67901235,  1.91358025,  3.14814815,  4.38271605,\n",
       "        5.61728395,  6.85185185,  8.08641975,  9.32098765, 10.55555556])"
      ]
     },
     "execution_count": 756,
     "metadata": {},
     "output_type": "execute_result"
    }
   ],
   "source": [
    "rel_n2_x = (rel_n2.lowerlimit) + \\\n",
    "            np.linspace(start=0, \n",
    "            stop=rel_n2.binsize*rel_n2.frequency.size, \n",
    "            num=rel_n2.frequency.size)\n",
    "rel_n2_x"
   ]
  },
  {
   "cell_type": "code",
   "execution_count": 757,
   "id": "excited-center",
   "metadata": {},
   "outputs": [
    {
     "data": {
      "image/png": "[encoded data removed]",
      "text/plain": [
       "<Figure size 360x288 with 1 Axes>"
      ]
     },
     "metadata": {
      "needs_background": "light"
     },
     "output_type": "display_data"
    }
   ],
   "source": [
    "fig = plt.figure(figsize=(5, 4))\n",
    "\n",
    "ax = fig.add_subplot(1, 1, 1)\n",
    "ax.grid(color='gray', linestyle=':', linewidth=0.5)\n",
    "\n",
    "ax.bar(rel_n2_x, rel_n2.frequency, \n",
    "       width=rel_n2.binsize, edgecolor=\"red\", linewidth=3, color=\"gold\")\n",
    "ax.set_title('Relative frequency histogram')\n",
    "ax.set_xlim([rel_n2_x.min(), rel_n2_x.max()])\n",
    "\n",
    "plt.savefig(\"Relative freq 2\")\n",
    "plt.show()"
   ]
  },
  {
   "cell_type": "markdown",
   "id": "brutal-morgan",
   "metadata": {},
   "source": [
    "Repeat the experiment with a biased coin."
   ]
  },
  {
   "cell_type": "code",
   "execution_count": 758,
   "id": "instant-ebony",
   "metadata": {},
   "outputs": [
    {
     "name": "stdout",
     "output_type": "stream",
     "text": [
      "[0 1 0 1 0 0 0 1 0 1 1 0 0 0 1 0 1 0 0 0 1 0 0 0 0 0 0 1 0 1 1 1 0 1 0 0 0\n",
      " 0 0 1 0 1 0 0 1 0 0 0 0 0 1 1 0 1 0 0 0 1 0 0 0 0 0 0 0 1 1 0 0 0 0 0 0 0\n",
      " 1 1 0 0 0 0 1 1 0 0 1 0 0 0 0 0 1 0 0 0 1 0 0 0 1 0]\n",
      "100000\n"
     ]
    }
   ],
   "source": [
    "binom_n2 = stats.binom.rvs(n=1, p=0.3, size=100000)\n",
    "print(binom_n2[:100])\n",
    "print(len(binom_n2))"
   ]
  },
  {
   "cell_type": "code",
   "execution_count": 759,
   "id": "exterior-valuation",
   "metadata": {},
   "outputs": [
    {
     "name": "stdout",
     "output_type": "stream",
     "text": [
      "<class 'numpy.ndarray'>\n",
      "(100000,)\n",
      "RepeatedResults(values=array([0., 1.]), counts=array([70192, 29808], dtype=int64))\n"
     ]
    }
   ],
   "source": [
    "print(type(binom_n2 ))\n",
    "print(np.shape(binom_n2 ))\n",
    "print(stats.find_repeats(binom_n2))"
   ]
  },
  {
   "cell_type": "code",
   "execution_count": 760,
   "id": "accurate-virginia",
   "metadata": {},
   "outputs": [
    {
     "name": "stdout",
     "output_type": "stream",
     "text": [
      "RelfreqResult(frequency=array([0.70192, 0.     , 0.     , 0.     , 0.     , 0.     , 0.     ,\n",
      "       0.     , 0.     , 0.29808]), lowerlimit=-0.05555555555555555, binsize=0.11111111111111112, extrapoints=0)\n"
     ]
    }
   ],
   "source": [
    "rel_biased_1 = stats.relfreq(binom_n2)\n",
    "print(rel_biased_1 )"
   ]
  },
  {
   "cell_type": "code",
   "execution_count": 761,
   "id": "endangered-relations",
   "metadata": {},
   "outputs": [
    {
     "data": {
      "text/plain": [
       "0    0.70192\n",
       "1    0.29808\n",
       "dtype: float64"
      ]
     },
     "execution_count": 761,
     "metadata": {},
     "output_type": "execute_result"
    }
   ],
   "source": [
    "pd.Series(binom_n2).value_counts(normalize=True)"
   ]
  },
  {
   "cell_type": "code",
   "execution_count": 762,
   "id": "active-despite",
   "metadata": {},
   "outputs": [
    {
     "data": {
      "text/plain": [
       "array([-0.05555556,  0.06790123,  0.19135802,  0.31481481,  0.4382716 ,\n",
       "        0.5617284 ,  0.68518519,  0.80864198,  0.93209877,  1.05555556])"
      ]
     },
     "execution_count": 762,
     "metadata": {},
     "output_type": "execute_result"
    }
   ],
   "source": [
    "rel_biased_1_x = (rel_biased_1.lowerlimit) + \\\n",
    "                    np.linspace(start=0, \n",
    "                    stop=rel_biased_1.binsize*rel_biased_1.frequency.size, \n",
    "                    num=rel_biased_1.frequency.size)\n",
    "rel_biased_1_x"
   ]
  },
  {
   "cell_type": "code",
   "execution_count": 763,
   "id": "permanent-tissue",
   "metadata": {},
   "outputs": [
    {
     "data": {
      "image/png": "[encoded data removed]",
      "text/plain": [
       "<Figure size 360x288 with 1 Axes>"
      ]
     },
     "metadata": {
      "needs_background": "light"
     },
     "output_type": "display_data"
    }
   ],
   "source": [
    "fig = plt.figure(figsize=(5, 4))\n",
    "\n",
    "ax = fig.add_subplot(1, 1, 1)\n",
    "ax.grid(color='gray', linestyle='--', linewidth=0.5)\n",
    "\n",
    "ax.bar(rel_biased_1_x, rel_biased_1.frequency, \n",
    "       width=rel_biased_1.binsize, edgecolor=\"red\", linewidth=3, color=\"gold\")\n",
    "ax.set_title('Relative frequency histogram')\n",
    "ax.set_xticks([0,1])\n",
    "\n",
    "# ax.set_xlim([rel_biased_1_x.min(), rel_biased_1_x.max()])\n",
    "\n",
    "plt.savefig(\"Relative freq 3\")\n",
    "plt.show()"
   ]
  },
  {
   "cell_type": "markdown",
   "id": "gentle-decimal",
   "metadata": {},
   "source": [
    "Because the coin is biased even after 100.000  throws or trial the coin is loop sided."
   ]
  },
  {
   "cell_type": "markdown",
   "id": "engaging-silly",
   "metadata": {},
   "source": [
    "## Understanding combinations and permutations\n",
    "\n",
    "<p>\n",
    "before calculating probabilities it helps determining the number of\n",
    "of possible calculations by determining the number of possible\n",
    "combinations. Before the number of cases can be determined some\n",
    "decisions depending on the goal are necessary. For example\n",
    "is the order important or not. If the order is a important it is\n",
    "permutation problem and if not a combination problem. Then\n",
    "is repetition allowed or not? Are the numbers repeatedly available\n",
    "for combinations (with replacement) or excluded once used (without replacement)?\n",
    "If you simply want to know the number of cases it is a permutation with repetition.\n",
    "</p> \n",
    "\n",
    "<p>\n",
    "<a href=\"https://www.mathsisfun.com/combinatorics/combinations-permutations.html\" target=\"_blank\">Math is fun</a> \n",
    "</p> \n",
    "\n",
    "<p>\n",
    "If you simply want to know the number of cases it is a <b>permutation with repetition</b>.\n",
    "</p> \n"
   ]
  },
  {
   "cell_type": "code",
   "execution_count": 764,
   "id": "processed-gazette",
   "metadata": {},
   "outputs": [
    {
     "name": "stdout",
     "output_type": "stream",
     "text": [
      "759375\n",
      "25\n",
      "4\n"
     ]
    }
   ],
   "source": [
    "# 15 numbers (n) are given and we choose combinations of 5 (k)\n",
    "# n choose k\n",
    "\n",
    "print(np.power(15,5))\n",
    "\n",
    "print(np.power(5,2))\n",
    "\n",
    "# In the Bernoulli case it is:\n",
    "print(np.power(2,2))\n"
   ]
  },
  {
   "cell_type": "markdown",
   "id": "central-staff",
   "metadata": {},
   "source": [
    "Mostly factorials are used for calculations.<br>\n",
    "Here for <b>permutations without repetition</b>."
   ]
  },
  {
   "cell_type": "code",
   "execution_count": 765,
   "id": "retained-commons",
   "metadata": {},
   "outputs": [
    {
     "name": "stdout",
     "output_type": "stream",
     "text": [
      "120\n",
      "120\n",
      "2\n",
      "2\n"
     ]
    }
   ],
   "source": [
    "print(math.factorial(int(5)))\n",
    "print(5*4*3*2)\n",
    "\n",
    "print(math.factorial(int(2)))\n",
    "print(2*1)"
   ]
  },
  {
   "cell_type": "code",
   "execution_count": 766,
   "id": "regular-coordination",
   "metadata": {},
   "outputs": [],
   "source": [
    "def permu_wh_rep(n,k):\n",
    "    perm_23 = (math.factorial(int(n)) / (math.factorial(int(n)-k)))\n",
    "    return perm_23"
   ]
  },
  {
   "cell_type": "code",
   "execution_count": 767,
   "id": "moral-latitude",
   "metadata": {},
   "outputs": [
    {
     "name": "stdout",
     "output_type": "stream",
     "text": [
      "60.0\n",
      "60.0\n"
     ]
    }
   ],
   "source": [
    "# only combinations of 3 out of 5\n",
    "per_531 = (math.factorial(int(5)) / (math.factorial(int(5)-3)))\n",
    "print(per_531)\n",
    "\n",
    "per_532 = permu_wh_rep(5,3)\n",
    "print(per_532)"
   ]
  },
  {
   "cell_type": "markdown",
   "id": "domestic-virus",
   "metadata": {},
   "source": [
    "<p>\n",
    "There are four different possibilities for calculating coin flips.\n",
    "What if we want to display the actual possibilities?\n",
    "</p> \n",
    "\n",
    "<p>\n",
    "Python <b>itertools</b> offers a number of functions to show\n",
    "combinations and permutations.<br>\n",
    "<a href=\"https://www.tutorialspoint.com/permutation-and-combination-in-python\" target=\"_blank\">Permutation and Combination in Python</a>     \n",
    "</p> \n",
    "\n",
    "<p>\n",
    "<b>Combinations without repetition (replacement - binomial coefficient)</b> \n",
    "</p> "
   ]
  },
  {
   "cell_type": "code",
   "execution_count": 768,
   "id": "solid-october",
   "metadata": {},
   "outputs": [
    {
     "name": "stdout",
     "output_type": "stream",
     "text": [
      "10.0\n",
      "1.0\n"
     ]
    }
   ],
   "source": [
    "# from n = 5 elements choose k=3 combinations\n",
    "# given this limitation 10 combinations are possible\n",
    "comb_53 = math.factorial(int(5)) / (math.factorial(int(3))*math.factorial(int(5-3)))\n",
    "print(comb_53)\n",
    "\n",
    "comb_22 = math.factorial(int(2)) / (math.factorial(int(2))*math.factorial(int(2-2)))\n",
    "print(comb_22)"
   ]
  },
  {
   "cell_type": "code",
   "execution_count": 769,
   "id": "interstate-circuit",
   "metadata": {},
   "outputs": [],
   "source": [
    "def comb_without_rep(n,k):\n",
    "    \n",
    "    comb_without_rep = \\\n",
    "    math.factorial(int(n)) / (math.factorial(int(k))*math.factorial(int(n-k)))\n",
    "    \n",
    "    return comb_without_rep\n",
    "    "
   ]
  },
  {
   "cell_type": "code",
   "execution_count": 770,
   "id": "elegant-inquiry",
   "metadata": {},
   "outputs": [
    {
     "name": "stdout",
     "output_type": "stream",
     "text": [
      "495.0\n"
     ]
    }
   ],
   "source": [
    "comb_wrep_124 = comb_without_rep(n=12,k=4)\n",
    "print(comb_wrep_124)"
   ]
  },
  {
   "cell_type": "code",
   "execution_count": 771,
   "id": "equipped-steal",
   "metadata": {},
   "outputs": [
    {
     "data": {
      "text/plain": [
       "[(1, (1, 2, 3)),\n",
       " (2, (1, 2, 4)),\n",
       " (3, (1, 2, 5)),\n",
       " (4, (1, 3, 4)),\n",
       " (5, (1, 3, 5)),\n",
       " (6, (1, 4, 5)),\n",
       " (7, (2, 3, 4)),\n",
       " (8, (2, 3, 5)),\n",
       " (9, (2, 4, 5)),\n",
       " (10, (3, 4, 5))]"
      ]
     },
     "execution_count": 771,
     "metadata": {},
     "output_type": "execute_result"
    }
   ],
   "source": [
    "#order does not matter, every element processed only one time\n",
    "combi_noneReplace_1 = combinations([1,2,3,4,5], 3)\n",
    "\n",
    "[c for c in enumerate(list(combi_noneReplace_1 ),1)]"
   ]
  },
  {
   "cell_type": "code",
   "execution_count": 772,
   "id": "permanent-avatar",
   "metadata": {},
   "outputs": [
    {
     "data": {
      "text/plain": [
       "[(1, (1, 2))]"
      ]
     },
     "execution_count": 772,
     "metadata": {},
     "output_type": "execute_result"
    }
   ],
   "source": [
    "#order does not matter, every element processed only one time\n",
    "combi_noneReplace_2 = combinations([1,2], 2)\n",
    "\n",
    "#Print the list of combinations\n",
    "[c for c in enumerate(list(combi_noneReplace_2),1)]\n",
    "\n"
   ]
  },
  {
   "cell_type": "markdown",
   "id": "together-excitement",
   "metadata": {},
   "source": [
    "<p>\n",
    "<b>Combinations with repetition (replacement)</b>\n",
    "</p> "
   ]
  },
  {
   "cell_type": "code",
   "execution_count": 773,
   "id": "clean-caribbean",
   "metadata": {},
   "outputs": [
    {
     "name": "stdout",
     "output_type": "stream",
     "text": [
      "35.0\n",
      "3.0\n"
     ]
    }
   ],
   "source": [
    "comb153 = math.factorial(3+5-1) / (math.factorial(3)*math.factorial(5-1))\n",
    "print(comb153)\n",
    "\n",
    "comb122 = math.factorial(2+2-1) / (math.factorial(2)*math.factorial(2-1))\n",
    "print(comb122)"
   ]
  },
  {
   "cell_type": "code",
   "execution_count": 774,
   "id": "hungry-sellers",
   "metadata": {},
   "outputs": [],
   "source": [
    "def comb_rep(n,k):\n",
    "    \n",
    "    combwith_rep = \\\n",
    "    math.factorial(k+n-1) / (math.factorial(k)*math.factorial(n-1))\n",
    "    \n",
    "    return combwith_rep"
   ]
  },
  {
   "cell_type": "code",
   "execution_count": 775,
   "id": "colored-astrology",
   "metadata": {},
   "outputs": [
    {
     "name": "stdout",
     "output_type": "stream",
     "text": [
      "1365.0\n"
     ]
    }
   ],
   "source": [
    "comb124 = comb_rep(n=12,k=4)\n",
    "print(comb124)"
   ]
  },
  {
   "cell_type": "code",
   "execution_count": 776,
   "id": "portable-belief",
   "metadata": {},
   "outputs": [
    {
     "name": "stdout",
     "output_type": "stream",
     "text": [
      "35.0\n"
     ]
    }
   ],
   "source": [
    "comb124 = comb_rep(n=5,k=3)\n",
    "print(comb124)"
   ]
  },
  {
   "cell_type": "markdown",
   "id": "thrown-mission",
   "metadata": {},
   "source": [
    "Repetition increases the number of possible combinations."
   ]
  },
  {
   "cell_type": "code",
   "execution_count": 777,
   "id": "macro-class",
   "metadata": {},
   "outputs": [
    {
     "name": "stdout",
     "output_type": "stream",
     "text": [
      "(1, (1, 1))\n",
      "(2, (1, 2))\n",
      "(3, (2, 2))\n"
     ]
    }
   ],
   "source": [
    "# order does not matter, every element processed and then added back\n",
    "\n",
    "combi_replace = combinations_with_replacement([1,2], 2)\n",
    "\n",
    "#Print the list of combinations\n",
    "\n",
    "for c in enumerate(list(combi_replace),1):\n",
    "    print(c)"
   ]
  },
  {
   "cell_type": "code",
   "execution_count": 778,
   "id": "incorrect-folks",
   "metadata": {},
   "outputs": [
    {
     "data": {
      "text/plain": [
       "[(31, (3, 5, 5)),\n",
       " (32, (4, 4, 4)),\n",
       " (33, (4, 4, 5)),\n",
       " (34, (4, 5, 5)),\n",
       " (35, (5, 5, 5))]"
      ]
     },
     "execution_count": 778,
     "metadata": {},
     "output_type": "execute_result"
    }
   ],
   "source": [
    "# order does not matter, every element processed and then added back\n",
    "combi_replace_2 = combinations_with_replacement([1,2,3,4,5], 3)\n",
    "\n",
    "combi_replace_l = [c for c in enumerate(list(combi_replace_2),1)]\n",
    "\n",
    "combi_replace_l[30:35]"
   ]
  },
  {
   "cell_type": "markdown",
   "id": "universal-liechtenstein",
   "metadata": {},
   "source": [
    "<p>\n",
    "<b>Permutations without repetition (replacement)</b>\n",
    "</p> "
   ]
  },
  {
   "cell_type": "code",
   "execution_count": 779,
   "id": "assured-robertson",
   "metadata": {},
   "outputs": [
    {
     "name": "stdout",
     "output_type": "stream",
     "text": [
      "(1, (1, 2))\n",
      "(2, (2, 1))\n"
     ]
    }
   ],
   "source": [
    "perm_wh_rep = permutations([1,2])\n",
    "\n",
    "for p in enumerate(list(perm_wh_rep),1):\n",
    "    print(p)"
   ]
  },
  {
   "cell_type": "code",
   "execution_count": 780,
   "id": "distinct-slovak",
   "metadata": {},
   "outputs": [
    {
     "name": "stdout",
     "output_type": "stream",
     "text": [
      "60.0\n",
      "60\n",
      "[(50, (5, 1, 3)), (51, (5, 1, 4)), (52, (5, 2, 1)), (53, (5, 2, 3)), (54, (5, 2, 4)), (55, (5, 3, 1)), (56, (5, 3, 2)), (57, (5, 3, 4)), (58, (5, 4, 1)), (59, (5, 4, 2)), (60, (5, 4, 3))]\n"
     ]
    }
   ],
   "source": [
    "print(permu_wh_rep(5,3))\n",
    "\n",
    "perm_wh_rep = permutations([1,2,3,4,5],3)\n",
    "\n",
    "perm_wh_rep_l_53 = [p for p in enumerate(perm_wh_rep,1)]\n",
    "\n",
    "print(len(perm_wh_rep_l_53))\n",
    "print(perm_wh_rep_l_53[49:60])"
   ]
  },
  {
   "cell_type": "code",
   "execution_count": 781,
   "id": "digital-sacrifice",
   "metadata": {},
   "outputs": [],
   "source": [
    "def perm_wh_rep(nl, comb):\n",
    "    perm_wh_rep_l = [p for p in enumerate(nl,comb)]\n",
    "    return perm_wh_rep_l"
   ]
  },
  {
   "cell_type": "code",
   "execution_count": 782,
   "id": "mineral-requirement",
   "metadata": {},
   "outputs": [
    {
     "data": {
      "text/plain": [
       "[(2, 1), (3, 2), (4, 3)]"
      ]
     },
     "execution_count": 782,
     "metadata": {},
     "output_type": "execute_result"
    }
   ],
   "source": [
    "perm_wh_rep(nl=range(1,4), comb=2)"
   ]
  },
  {
   "cell_type": "markdown",
   "id": "increasing-angel",
   "metadata": {},
   "source": [
    "<p>\n",
    "<b>Permutation with repetition (replacement)</b>\n",
    "</p> \n",
    "<p>\n",
    "is what we want to show. Ironically enough itertools does not offer it as permutation.\n",
    "Instead the Cartesian product (or product set) gives the desired result.<br>\n",
    "<a href=\"https://stackoverflow.com/questions/3099987/generating-permutations-with-repetitions\" target=\"_blank\">Stack</a> \n",
    "    \n",
    "</p> "
   ]
  },
  {
   "cell_type": "code",
   "execution_count": 783,
   "id": "proprietary-longitude",
   "metadata": {},
   "outputs": [
    {
     "name": "stdout",
     "output_type": "stream",
     "text": [
      "4\n",
      "4\n",
      "[(1, 1), (1, 2), (2, 1), (2, 2)]\n"
     ]
    }
   ],
   "source": [
    "n12=[1,2]\n",
    "perm_n12 = [p for p in itertools.product(n12, repeat=2)]\n",
    "print(len(perm_n12))\n",
    "print(np.power(2,2))\n",
    "print(perm_n12)"
   ]
  },
  {
   "cell_type": "code",
   "execution_count": 784,
   "id": "involved-literacy",
   "metadata": {},
   "outputs": [],
   "source": [
    "def perm_rep(n,r):\n",
    "    perm = [p for p in itertools.product(n, repeat=r)]\n",
    "    return perm"
   ]
  },
  {
   "cell_type": "code",
   "execution_count": 785,
   "id": "thousand-audio",
   "metadata": {},
   "outputs": [
    {
     "data": {
      "text/plain": [
       "[(1, 1), (1, 2), (2, 1), (2, 2)]"
      ]
     },
     "execution_count": 785,
     "metadata": {},
     "output_type": "execute_result"
    }
   ],
   "source": [
    "perm_rep(n=[1,2],r=2)"
   ]
  },
  {
   "cell_type": "code",
   "execution_count": 786,
   "id": "stretch-basin",
   "metadata": {},
   "outputs": [
    {
     "data": {
      "text/plain": [
       "[(1, 1), (1, 2), (1, 3), (2, 1), (2, 2), (2, 3), (3, 1), (3, 2), (3, 3)]"
      ]
     },
     "execution_count": 786,
     "metadata": {},
     "output_type": "execute_result"
    }
   ],
   "source": [
    "perm_rep(n=range(1,4),r=2)"
   ]
  },
  {
   "cell_type": "code",
   "execution_count": 787,
   "id": "similar-battlefield",
   "metadata": {},
   "outputs": [
    {
     "data": {
      "text/plain": [
       "[(1, 1, 1, 1),\n",
       " (1, 1, 1, 2),\n",
       " (1, 1, 2, 1),\n",
       " (1, 1, 2, 2),\n",
       " (1, 2, 1, 1),\n",
       " (1, 2, 1, 2),\n",
       " (1, 2, 2, 1),\n",
       " (1, 2, 2, 2),\n",
       " (2, 1, 1, 1),\n",
       " (2, 1, 1, 2),\n",
       " (2, 1, 2, 1),\n",
       " (2, 1, 2, 2),\n",
       " (2, 2, 1, 1),\n",
       " (2, 2, 1, 2),\n",
       " (2, 2, 2, 1),\n",
       " (2, 2, 2, 2)]"
      ]
     },
     "execution_count": 787,
     "metadata": {},
     "output_type": "execute_result"
    }
   ],
   "source": [
    "perm_rep(n=[1,2],r=4)"
   ]
  },
  {
   "cell_type": "code",
   "execution_count": 788,
   "id": "proprietary-tourist",
   "metadata": {},
   "outputs": [
    {
     "name": "stdout",
     "output_type": "stream",
     "text": [
      "25\n",
      "25\n",
      "[(4, 1), (4, 2), (4, 3), (4, 4), (4, 5), (5, 1), (5, 2), (5, 3), (5, 4), (5, 5)]\n"
     ]
    }
   ],
   "source": [
    "n5=[1,2,3,4,5]\n",
    "perm_n5 = [p for p in itertools.product(n5, repeat=2)]\n",
    "\n",
    "print(np.power(5,2))\n",
    "print(len(perm_n5))\n",
    "print(perm_n5[15:25])"
   ]
  },
  {
   "cell_type": "markdown",
   "id": "abstract-houston",
   "metadata": {},
   "source": [
    "## Probability calculus\n",
    "\n",
    "<p>\n",
    "Calculating probabilities requires an understanding of the events. \n",
    "Are the events independent (mutually exclusive) or dependent? \n",
    "Are the events occurring simultaenously or not?\n",
    "In case the probability of one event does not influence the probability of the other event\n",
    "the events are independent and unconditional.\n",
    "</p> \n",
    "\n",
    "<p>\n",
    "Probability calculations of independent events know two basic cases: the <b> \"and\"</b> and the <b>\"or\"</b> case.\n",
    "In the and-case event A and B are occuring together. This is calculated with multiplication\n",
    "In the or-case either event A or event B occur. This is calculated with addition.\n",
    "Then if event AB are overlapping the intersection is subtracted. Otherwise\n",
    "the <b>intersection</b> would duplicative in the subset.\n",
    "</p> \n",
    "\n",
    "<p>\n",
    "The \"units\" of calculations are the <b>frequencies</b> of occurences in the total quantity.\n",
    "The number of occurences are simply determined by counting.\n",
    "</p> \n",
    "\n"
   ]
  },
  {
   "cell_type": "markdown",
   "id": "congressional-winter",
   "metadata": {},
   "source": [
    "### Probabilities of A or B -  the Addition rule\n",
    "\n",
    "<p>\n",
    "P(A or B) = P(A) + P(B) - P(A and B)\n",
    "</p> \n",
    "\n",
    "\n",
    "<p>\n",
    "Where P (A) is the probability of event A, P (B) is\n",
    "the probability of event B and P (A and B) [or P\n",
    "(AB)] is the probability of both A and B occurring\n",
    "simultaneously. If A and B are not mutually\n",
    "exclusive, that is, the occurrence of event A does\n",
    "affect the probability of occurrence of the event B or\n",
    "vice versa, then the probability of intersection, that\n",
    "is, P (A B) not equal to 0 and the intersection must\n",
    "be subtracted. Otherwise there is no intersection\n",
    "and the formula reduces to: P (A or B) = P (A) + P\n",
    "(B)\n",
    "</p> \n",
    "\n",
    "<p>\n",
    "A standard case to demonstrate this  probability calculation is a deck of 52 cards.\n",
    "</p> \n"
   ]
  },
  {
   "cell_type": "code",
   "execution_count": 789,
   "id": "inner-karma",
   "metadata": {},
   "outputs": [
    {
     "name": "stdout",
     "output_type": "stream",
     "text": [
      "0.08\n",
      "0.92\n"
     ]
    }
   ],
   "source": [
    "# proba of getting a 4\n",
    "four = round(4/52,2)\n",
    "print(four)\n",
    "\n",
    "# proba of not getting a 4\n",
    "notFour = 1 - four\n",
    "print(notFour)"
   ]
  },
  {
   "cell_type": "code",
   "execution_count": 790,
   "id": "automated-french",
   "metadata": {},
   "outputs": [
    {
     "name": "stdout",
     "output_type": "stream",
     "text": [
      "0.5\n"
     ]
    }
   ],
   "source": [
    "# proba of getting black\n",
    "black = 26/52\n",
    "print(black)\n",
    "\n",
    "# proba of not getting black\n",
    "notBlack = 1 - black"
   ]
  },
  {
   "cell_type": "code",
   "execution_count": 791,
   "id": "legal-nature",
   "metadata": {},
   "outputs": [
    {
     "name": "stdout",
     "output_type": "stream",
     "text": [
      "0.07692307692307693\n",
      "0.25\n",
      "0.3076923076923077\n"
     ]
    }
   ],
   "source": [
    "# proba of getting king and heart\n",
    "\n",
    "king = 4/52\n",
    "print(king)\n",
    "heart = 13/52\n",
    "print(heart)\n",
    "\n",
    "# heart (13) and king (4) = 17\n",
    "# the catch is that there is a heart king\n",
    "# this is an intersection of heart (13) and king (4) = 1\n",
    "# the heart king (1/52) is therefore subtracted from 17 - 1 = 16\n",
    "\n",
    "probaHeartKing = king + heart - 1/52\n",
    "print(probaHeartKing)\n",
    "\n"
   ]
  },
  {
   "cell_type": "code",
   "execution_count": 792,
   "id": "gorgeous-today",
   "metadata": {},
   "outputs": [
    {
     "name": "stdout",
     "output_type": "stream",
     "text": [
      "0.15384615384615385\n"
     ]
    }
   ],
   "source": [
    "# proba of getting queen and jack\n",
    "queen = 4/52\n",
    "jack = 4/52\n",
    "\n",
    "# Is there an intersection?\n",
    "# No, so it boils down to:\n",
    "\n",
    "queenJack = queen + jack\n",
    "print(queenJack)"
   ]
  },
  {
   "cell_type": "markdown",
   "id": "three-spelling",
   "metadata": {},
   "source": [
    "As the card deck problem is ubiquitous in probability theory\n",
    "and boring let's have a look the Roman legion.<br>\n",
    "(Numbers are not totally correct.)"
   ]
  },
  {
   "cell_type": "code",
   "execution_count": 793,
   "id": "pretty-validation",
   "metadata": {},
   "outputs": [
    {
     "name": "stdout",
     "output_type": "stream",
     "text": [
      "100.0\n",
      "200.0\n",
      "500\n",
      "5204.0\n"
     ]
    }
   ],
   "source": [
    "legionnaires = 5000\n",
    "\n",
    "\n",
    "main_centurions = 5000/50\n",
    "print(main_centurions)\n",
    "\n",
    "assisting_centurions = main_centurions\n",
    "\n",
    "centurions = main_centurions + assisting_centurions\n",
    "print(centurions)\n",
    "\n",
    "cohort = 10*50\n",
    "print(cohort) # 1. cohort, 2.cohort ...\n",
    "\n",
    "commanders = 4 # Legatus legionis, Tribunus laticlavius, Praefectus castrorum ...\n",
    "cohort_commander = 5000 / 500   # hastatus posterior, a senior centurion\n",
    "\n",
    "legion = legionnaires + main_centurions + assisting_centurions + commanders\n",
    "print(legion)"
   ]
  },
  {
   "cell_type": "code",
   "execution_count": 794,
   "id": "compound-earthquake",
   "metadata": {},
   "outputs": [
    {
     "name": "stdout",
     "output_type": "stream",
     "text": [
      "0.03843197540353574\n"
     ]
    }
   ],
   "source": [
    "prob_cent = centurions / legion \n",
    "print(prob_cent)"
   ]
  },
  {
   "cell_type": "code",
   "execution_count": 795,
   "id": "sorted-livestock",
   "metadata": {},
   "outputs": [
    {
     "name": "stdout",
     "output_type": "stream",
     "text": [
      "3.84\n"
     ]
    }
   ],
   "source": [
    "# proba of picking out a centurion randomly\n",
    "# centurions: centurions + assisting_centurions\n",
    "# 20 / 5204.0 + 20 / 5204.0 + ...\n",
    "\n",
    "proba_centurions = round(np.repeat(20/legion, 10).sum(),4)\n",
    "print(proba_centurions*100)"
   ]
  },
  {
   "cell_type": "code",
   "execution_count": 796,
   "id": "boxed-teddy",
   "metadata": {},
   "outputs": [
    {
     "name": "stdout",
     "output_type": "stream",
     "text": [
      "4.03\n"
     ]
    }
   ],
   "source": [
    "# proba of centurion and hastatus posterior \n",
    "proba_hpc = proba_centurions + cohort_commander/legion\n",
    "print(round(proba_hpc*100,2))\n"
   ]
  },
  {
   "cell_type": "code",
   "execution_count": 797,
   "id": "loose-notice",
   "metadata": {},
   "outputs": [
    {
     "name": "stdout",
     "output_type": "stream",
     "text": [
      "4.01\n"
     ]
    }
   ],
   "source": [
    "# proba of centurion and hastatus posterior of the second cohort\n",
    "proba_hpc2 = proba_centurions + cohort_commander/legion - 1/legion\n",
    "print(round(proba_hpc2*100,2))"
   ]
  },
  {
   "cell_type": "markdown",
   "id": "continuous-intervention",
   "metadata": {},
   "source": [
    "### Probabilities of A and B (joint probabilities) - Multiplication law of probability\n",
    "\n",
    "<p>\n",
    "P (A and B) = P (A B) = P (A) * P (B)\n",
    "</p>     \n",
    "    \n",
    "<p>     \n",
    "The probability of occurrence of two events given or in other\n",
    "words the probability of intersection of two given events is equal\n",
    "to the product obtained by finding the product of the probability of\n",
    "occurrence of both events.\n",
    "</p> \n",
    "\n",
    "\n",
    "<p>\n",
    "The terms and/or and \"intersection\" refer to the concept of set theory.\n",
    "Set theory is an important tool for determining the inputs into probability calculations.<br>\n",
    "<a href=\"https://en.wikipedia.org/wiki/Set_theory\" target=\"_blank\">Set theory</a> \n",
    "</p>\n",
    "\n",
    "<p>\n",
    "In the example of the coin toss:<br>\n",
    "One coin toss does not influence the outcome of another coin toss.<br>\n",
    "With a fair coin it is always 0.25. This is not the case for a \n",
    "biased coin with h=0.3 and tail=0.7\n",
    "</p> "
   ]
  },
  {
   "cell_type": "code",
   "execution_count": 798,
   "id": "heated-integral",
   "metadata": {},
   "outputs": [
    {
     "name": "stdout",
     "output_type": "stream",
     "text": [
      "possible outcomes: 4\n",
      "0.25\n",
      "0.25\n"
     ]
    }
   ],
   "source": [
    "# possible outcomes of a coin toss\n",
    "pos_cointoss = np.power(2,2)\n",
    "print(\"possible outcomes: {pp}\".format(pp=pos_cointoss))\n",
    "# What is the probability of head and then tail?\n",
    "ht_1 = 0.5 *0.5\n",
    "print(ht_1)\n",
    "\n",
    "# What is the probability of head and then tail? And so on.\n",
    "th_1 = 0.5 *0.5\n",
    "print(th_1)"
   ]
  },
  {
   "cell_type": "markdown",
   "id": "civilian-glass",
   "metadata": {},
   "source": [
    "<p>\n",
    "Astronomers have observed the planets Venus and Mars 10.000 times and<br> \n",
    "calculated the frequency probabilities of dust storms for each planet.<br>\n",
    "What are the joint probabilities?\n",
    "</p> \n",
    "\n",
    "<p>\n",
    "Iterating over data frames is made easy with iterrows.<br>\n",
    "(Iterrows is based on dicts.\n",
    "Behind every good data frame stands a good dictionary.)\n",
    "</p> \n",
    "\n",
    "\n"
   ]
  },
  {
   "cell_type": "code",
   "execution_count": 799,
   "id": "ordinary-finger",
   "metadata": {},
   "outputs": [
    {
     "data": {
      "text/html": [
       "<style  type=\"text/css\" >\n",
       "#T_e46dc_row0_col0,#T_e46dc_row0_col1,#T_e46dc_row1_col0,#T_e46dc_row1_col1,#T_e46dc_row2_col0,#T_e46dc_row2_col1,#T_e46dc_row3_col0,#T_e46dc_row3_col1,#T_e46dc_row4_col0,#T_e46dc_row4_col1{\n",
       "            background:  greenyellow;\n",
       "            color:  black;\n",
       "        }</style><table id=\"T_e46dc_\" ><thead>    <tr>        <th class=\"blank level0\" ></th>        <th class=\"col_heading level0 col0\" >Venus</th>        <th class=\"col_heading level0 col1\" >Mars</th>    </tr></thead><tbody>\n",
       "                <tr>\n",
       "                        <th id=\"T_e46dc_level0_row0\" class=\"row_heading level0 row0\" >0</th>\n",
       "                        <td id=\"T_e46dc_row0_col0\" class=\"data row0 col0\" >0.967000</td>\n",
       "                        <td id=\"T_e46dc_row0_col1\" class=\"data row0 col1\" >0.830500</td>\n",
       "            </tr>\n",
       "            <tr>\n",
       "                        <th id=\"T_e46dc_level0_row1\" class=\"row_heading level0 row1\" >1</th>\n",
       "                        <td id=\"T_e46dc_row1_col0\" class=\"data row1 col0\" >0.547200</td>\n",
       "                        <td id=\"T_e46dc_row1_col1\" class=\"data row1 col1\" >0.932100</td>\n",
       "            </tr>\n",
       "            <tr>\n",
       "                        <th id=\"T_e46dc_level0_row2\" class=\"row_heading level0 row2\" >2</th>\n",
       "                        <td id=\"T_e46dc_row2_col0\" class=\"data row2 col0\" >0.972700</td>\n",
       "                        <td id=\"T_e46dc_row2_col1\" class=\"data row2 col1\" >0.513100</td>\n",
       "            </tr>\n",
       "            <tr>\n",
       "                        <th id=\"T_e46dc_level0_row3\" class=\"row_heading level0 row3\" >3</th>\n",
       "                        <td id=\"T_e46dc_row3_col0\" class=\"data row3 col0\" >0.714800</td>\n",
       "                        <td id=\"T_e46dc_row3_col1\" class=\"data row3 col1\" >0.844700</td>\n",
       "            </tr>\n",
       "            <tr>\n",
       "                        <th id=\"T_e46dc_level0_row4\" class=\"row_heading level0 row4\" >4</th>\n",
       "                        <td id=\"T_e46dc_row4_col0\" class=\"data row4 col0\" >0.697700</td>\n",
       "                        <td id=\"T_e46dc_row4_col1\" class=\"data row4 col1\" >0.431600</td>\n",
       "            </tr>\n",
       "    </tbody></table>"
      ],
      "text/plain": [
       "<pandas.io.formats.style.Styler at 0x21312dcf908>"
      ]
     },
     "execution_count": 799,
     "metadata": {},
     "output_type": "execute_result"
    }
   ],
   "source": [
    "np.random.seed(4)\n",
    "ui = pd.DataFrame({'Venus':np.random.rand(10000), 'Mars':np.random.rand(10000)}).round(4)\n",
    "ui.head().style.set_properties(**{'background':'greenyellow','color': 'black'})"
   ]
  },
  {
   "cell_type": "code",
   "execution_count": 800,
   "id": "genetic-postage",
   "metadata": {},
   "outputs": [],
   "source": [
    "jpdict = {}\n",
    "for index, row in ui.iterrows():\n",
    "    jp = ui.iloc[index,0]*ui.iloc[index,1]\n",
    "    jpdict[index] = round(jp,4)\n",
    "  \n",
    "jp_s = pd.Series(jpdict, name='JointProba')"
   ]
  },
  {
   "cell_type": "code",
   "execution_count": 801,
   "id": "organic-objective",
   "metadata": {},
   "outputs": [
    {
     "data": {
      "text/html": [
       "<style  type=\"text/css\" >\n",
       "#T_072b0_row0_col0,#T_072b0_row0_col1,#T_072b0_row0_col2,#T_072b0_row1_col0,#T_072b0_row1_col1,#T_072b0_row1_col2,#T_072b0_row2_col0,#T_072b0_row2_col1,#T_072b0_row2_col2,#T_072b0_row3_col0,#T_072b0_row3_col1,#T_072b0_row3_col2,#T_072b0_row4_col0,#T_072b0_row4_col1,#T_072b0_row4_col2{\n",
       "            background:  lightblue;\n",
       "            color:  black;\n",
       "        }</style><table id=\"T_072b0_\" ><thead>    <tr>        <th class=\"blank level0\" ></th>        <th class=\"col_heading level0 col0\" >Venus</th>        <th class=\"col_heading level0 col1\" >Mars</th>        <th class=\"col_heading level0 col2\" >JointProba</th>    </tr></thead><tbody>\n",
       "                <tr>\n",
       "                        <th id=\"T_072b0_level0_row0\" class=\"row_heading level0 row0\" >0</th>\n",
       "                        <td id=\"T_072b0_row0_col0\" class=\"data row0 col0\" >0.967000</td>\n",
       "                        <td id=\"T_072b0_row0_col1\" class=\"data row0 col1\" >0.830500</td>\n",
       "                        <td id=\"T_072b0_row0_col2\" class=\"data row0 col2\" >0.803100</td>\n",
       "            </tr>\n",
       "            <tr>\n",
       "                        <th id=\"T_072b0_level0_row1\" class=\"row_heading level0 row1\" >1</th>\n",
       "                        <td id=\"T_072b0_row1_col0\" class=\"data row1 col0\" >0.547200</td>\n",
       "                        <td id=\"T_072b0_row1_col1\" class=\"data row1 col1\" >0.932100</td>\n",
       "                        <td id=\"T_072b0_row1_col2\" class=\"data row1 col2\" >0.510000</td>\n",
       "            </tr>\n",
       "            <tr>\n",
       "                        <th id=\"T_072b0_level0_row2\" class=\"row_heading level0 row2\" >2</th>\n",
       "                        <td id=\"T_072b0_row2_col0\" class=\"data row2 col0\" >0.972700</td>\n",
       "                        <td id=\"T_072b0_row2_col1\" class=\"data row2 col1\" >0.513100</td>\n",
       "                        <td id=\"T_072b0_row2_col2\" class=\"data row2 col2\" >0.499100</td>\n",
       "            </tr>\n",
       "            <tr>\n",
       "                        <th id=\"T_072b0_level0_row3\" class=\"row_heading level0 row3\" >3</th>\n",
       "                        <td id=\"T_072b0_row3_col0\" class=\"data row3 col0\" >0.714800</td>\n",
       "                        <td id=\"T_072b0_row3_col1\" class=\"data row3 col1\" >0.844700</td>\n",
       "                        <td id=\"T_072b0_row3_col2\" class=\"data row3 col2\" >0.603800</td>\n",
       "            </tr>\n",
       "            <tr>\n",
       "                        <th id=\"T_072b0_level0_row4\" class=\"row_heading level0 row4\" >4</th>\n",
       "                        <td id=\"T_072b0_row4_col0\" class=\"data row4 col0\" >0.697700</td>\n",
       "                        <td id=\"T_072b0_row4_col1\" class=\"data row4 col1\" >0.431600</td>\n",
       "                        <td id=\"T_072b0_row4_col2\" class=\"data row4 col2\" >0.301100</td>\n",
       "            </tr>\n",
       "    </tbody></table>"
      ],
      "text/plain": [
       "<pandas.io.formats.style.Styler at 0x21312ee6188>"
      ]
     },
     "execution_count": 801,
     "metadata": {},
     "output_type": "execute_result"
    }
   ],
   "source": [
    "ui_jp = pd.concat([ui, jp_s], axis=1)\n",
    "ui_jp.head().style.set_properties(**{'background':'lightblue','color': 'black'})"
   ]
  },
  {
   "cell_type": "markdown",
   "id": "animated-grill",
   "metadata": {},
   "source": [
    "### Joint probability matrices\n",
    "\n",
    "<p>\n",
    "You are an engineer at NASA and have tested a rocket type 10000 times.<br>\n",
    "Now you want to know the joint probabilities\n",
    "of rocket parts either working or failing.\n",
    "</p> "
   ]
  },
  {
   "cell_type": "code",
   "execution_count": 802,
   "id": "flying-qualification",
   "metadata": {},
   "outputs": [
    {
     "name": "stdout",
     "output_type": "stream",
     "text": [
      "0.0001\n",
      "0.9999\n"
     ]
    }
   ],
   "source": [
    "# prob of failure of the guidance system\n",
    "pf_guide = 1/10000\n",
    "print(pf_guide)\n",
    "\n",
    "# prob of working\n",
    "pw_guide = 1-pf_guide\n",
    "print(pw_guide)"
   ]
  },
  {
   "cell_type": "code",
   "execution_count": 803,
   "id": "legitimate-timer",
   "metadata": {},
   "outputs": [
    {
     "name": "stdout",
     "output_type": "stream",
     "text": [
      "{'Guide': [0.0001, 0.9999], 'Pumps': [0.0002, 0.9998], 'Oxidizer': [0.0005, 0.99995], 'Frame': [0.0003, 0.99997]}\n"
     ]
    }
   ],
   "source": [
    "rocket = {'Guide':[0.0001, 0.9999], 'Pumps':[0.0002, 0.9998], \n",
    "     'Oxidizer':[0.0005, 0.99995], 'Frame':[0.0003, 0.99997]}\n",
    "print(rocket)"
   ]
  },
  {
   "cell_type": "code",
   "execution_count": 804,
   "id": "regulated-detail",
   "metadata": {},
   "outputs": [
    {
     "name": "stdout",
     "output_type": "stream",
     "text": [
      "<class 'pandas.io.formats.style.Styler'>\n"
     ]
    },
    {
     "data": {
      "text/html": [
       "<style  type=\"text/css\" >\n",
       "#T_fc079_row0_col0,#T_fc079_row0_col1,#T_fc079_row0_col2,#T_fc079_row0_col3,#T_fc079_row1_col0,#T_fc079_row1_col1,#T_fc079_row1_col2,#T_fc079_row1_col3{\n",
       "            background:  black;\n",
       "            color:  white;\n",
       "            precision:  15;\n",
       "        }</style><table id=\"T_fc079_\" ><thead>    <tr>        <th class=\"blank level0\" ></th>        <th class=\"col_heading level0 col0\" >Guide</th>        <th class=\"col_heading level0 col1\" >Pumps</th>        <th class=\"col_heading level0 col2\" >Oxidizer</th>        <th class=\"col_heading level0 col3\" >Frame</th>    </tr></thead><tbody>\n",
       "                <tr>\n",
       "                        <th id=\"T_fc079_level0_row0\" class=\"row_heading level0 row0\" >Fails</th>\n",
       "                        <td id=\"T_fc079_row0_col0\" class=\"data row0 col0\" >0.000100</td>\n",
       "                        <td id=\"T_fc079_row0_col1\" class=\"data row0 col1\" >0.000200</td>\n",
       "                        <td id=\"T_fc079_row0_col2\" class=\"data row0 col2\" >0.000500</td>\n",
       "                        <td id=\"T_fc079_row0_col3\" class=\"data row0 col3\" >0.000300</td>\n",
       "            </tr>\n",
       "            <tr>\n",
       "                        <th id=\"T_fc079_level0_row1\" class=\"row_heading level0 row1\" >Works</th>\n",
       "                        <td id=\"T_fc079_row1_col0\" class=\"data row1 col0\" >0.999900</td>\n",
       "                        <td id=\"T_fc079_row1_col1\" class=\"data row1 col1\" >0.999800</td>\n",
       "                        <td id=\"T_fc079_row1_col2\" class=\"data row1 col2\" >0.999950</td>\n",
       "                        <td id=\"T_fc079_row1_col3\" class=\"data row1 col3\" >0.999970</td>\n",
       "            </tr>\n",
       "    </tbody></table>"
      ],
      "text/plain": [
       "<pandas.io.formats.style.Styler at 0x2131047b808>"
      ]
     },
     "execution_count": 804,
     "metadata": {},
     "output_type": "execute_result"
    }
   ],
   "source": [
    "rocket_df = pd.DataFrame(data=rocket).set_index(pd.Index(['Fails', 'Works']))\n",
    "rocket_jp_df_2 = rocket_df.style.set_properties(**{'background':'black','color': 'white'}, precision=15)\n",
    "\n",
    "print(type(rocket_jp_df_2))\n",
    "rocket_jp_df_2"
   ]
  },
  {
   "cell_type": "markdown",
   "id": "cultural-dividend",
   "metadata": {},
   "source": [
    "Now the proba of failing of all parts together."
   ]
  },
  {
   "cell_type": "code",
   "execution_count": 805,
   "id": "double-richmond",
   "metadata": {},
   "outputs": [
    {
     "data": {
      "text/plain": [
       "3.0000000000000002e-15"
      ]
     },
     "execution_count": 805,
     "metadata": {},
     "output_type": "execute_result"
    }
   ],
   "source": [
    "0.0001*0.0002 * 0.00050 * 0.00030"
   ]
  },
  {
   "cell_type": "markdown",
   "id": "complimentary-section",
   "metadata": {},
   "source": [
    "PD calculates row- and column products."
   ]
  },
  {
   "cell_type": "code",
   "execution_count": 806,
   "id": "professional-aircraft",
   "metadata": {},
   "outputs": [
    {
     "data": {
      "text/html": [
       "<style  type=\"text/css\" >\n",
       "#T_637fa_row0_col0,#T_637fa_row1_col0{\n",
       "            background:  gold;\n",
       "            color:  red;\n",
       "            precision:  15;\n",
       "        }</style><table id=\"T_637fa_\" ><thead>    <tr>        <th class=\"blank level0\" ></th>        <th class=\"col_heading level0 col0\" >joint proba</th>    </tr></thead><tbody>\n",
       "                <tr>\n",
       "                        <th id=\"T_637fa_level0_row0\" class=\"row_heading level0 row0\" >Fails</th>\n",
       "                        <td id=\"T_637fa_row0_col0\" class=\"data row0 col0\" >0.000000</td>\n",
       "            </tr>\n",
       "            <tr>\n",
       "                        <th id=\"T_637fa_level0_row1\" class=\"row_heading level0 row1\" >Works</th>\n",
       "                        <td id=\"T_637fa_row1_col0\" class=\"data row1 col0\" >0.999620</td>\n",
       "            </tr>\n",
       "    </tbody></table>"
      ],
      "text/plain": [
       "<pandas.io.formats.style.Styler at 0x21310478ac8>"
      ]
     },
     "execution_count": 806,
     "metadata": {},
     "output_type": "execute_result"
    }
   ],
   "source": [
    "rocket_jp = pd.DataFrame(rocket_df.product(axis=1), columns=['joint proba'])\n",
    "rocket_jp.style.set_properties(**{'background':'gold','color': 'red'}, precision=15)"
   ]
  },
  {
   "cell_type": "markdown",
   "id": "sexual-chapel",
   "metadata": {},
   "source": [
    "The joint proba of all parts failing together: 3.000000e-15.<br>\n",
    "The joint proba of all parts working together: 3.000000e-15."
   ]
  },
  {
   "cell_type": "code",
   "execution_count": 807,
   "id": "intermediate-backup",
   "metadata": {},
   "outputs": [
    {
     "data": {
      "text/html": [
       "<div>\n",
       "<style scoped>\n",
       "    .dataframe tbody tr th:only-of-type {\n",
       "        vertical-align: middle;\n",
       "    }\n",
       "\n",
       "    .dataframe tbody tr th {\n",
       "        vertical-align: top;\n",
       "    }\n",
       "\n",
       "    .dataframe thead th {\n",
       "        text-align: right;\n",
       "    }\n",
       "</style>\n",
       "<table border=\"1\" class=\"dataframe\">\n",
       "  <thead>\n",
       "    <tr style=\"text-align: right;\">\n",
       "      <th></th>\n",
       "      <th>Guide</th>\n",
       "      <th>Pumps</th>\n",
       "      <th>Oxidizer</th>\n",
       "      <th>Frame</th>\n",
       "      <th>joint proba</th>\n",
       "    </tr>\n",
       "  </thead>\n",
       "  <tbody>\n",
       "    <tr>\n",
       "      <th>Failing</th>\n",
       "      <td>0.0001</td>\n",
       "      <td>0.0002</td>\n",
       "      <td>0.00050</td>\n",
       "      <td>0.00030</td>\n",
       "      <td>3.000000e-15</td>\n",
       "    </tr>\n",
       "    <tr>\n",
       "      <th>Working</th>\n",
       "      <td>0.9999</td>\n",
       "      <td>0.9998</td>\n",
       "      <td>0.99995</td>\n",
       "      <td>0.99997</td>\n",
       "      <td>9.996200e-01</td>\n",
       "    </tr>\n",
       "  </tbody>\n",
       "</table>\n",
       "</div>"
      ],
      "text/plain": [
       "          Guide   Pumps  Oxidizer    Frame   joint proba\n",
       "Failing  0.0001  0.0002   0.00050  0.00030  3.000000e-15\n",
       "Working  0.9999  0.9998   0.99995  0.99997  9.996200e-01"
      ]
     },
     "execution_count": 807,
     "metadata": {},
     "output_type": "execute_result"
    }
   ],
   "source": [
    "# reset index otherwise nan values are produced by index\n",
    "# https://stackoverflow.com/questions/40339886/pandas-concat-generates-nan-values\n",
    "rocket_jp_df = \\\n",
    "pd.concat([rocket_df.reset_index(drop=True), rocket_jp.reset_index(drop=True)], axis=1).\\\n",
    "set_index([pd.Index([\"Failing\", \"Working\"])])\n",
    "\n",
    "rocket_jp_df"
   ]
  },
  {
   "cell_type": "markdown",
   "id": "retired-retailer",
   "metadata": {},
   "source": [
    "Now it would be not only interesting to know the total probabilities, but also the \n",
    "probabilities of different combinations of elements. Interesting combinations are chosen:"
   ]
  },
  {
   "cell_type": "code",
   "execution_count": 808,
   "id": "vanilla-boards",
   "metadata": {},
   "outputs": [
    {
     "name": "stdout",
     "output_type": "stream",
     "text": [
      "1.0000000000000001e-11\n"
     ]
    },
    {
     "data": {
      "text/plain": [
       "0.00019997400060000004"
      ]
     },
     "execution_count": 808,
     "metadata": {},
     "output_type": "execute_result"
    }
   ],
   "source": [
    "# guide, pumps, oxidizer\n",
    "print(0.0001*0.0002*0.00050)\n",
    "\n",
    "# guide, pumps, frame\n",
    "0.9999*0.0002*0.99997"
   ]
  },
  {
   "cell_type": "markdown",
   "id": "restricted-shock",
   "metadata": {},
   "source": [
    "#### Joint probabilities matrices\n",
    "\n",
    "<p>\n",
    "are giving overviews by calculating pairs of values.\n",
    "A matrice for parts failing together is caculated below.\n",
    "</p> \n"
   ]
  },
  {
   "cell_type": "code",
   "execution_count": 809,
   "id": "early-watch",
   "metadata": {},
   "outputs": [
    {
     "name": "stdout",
     "output_type": "stream",
     "text": [
      "[0.0001 0.0002 0.0005 0.0003]\n"
     ]
    }
   ],
   "source": [
    "k = np.array([0.0001, 0.0002, 0.00050, 0.00030] )\n",
    "m = np.array([0.0001, 0.0002, 0.00050, 0.00030])\n",
    "\n",
    "print(k)"
   ]
  },
  {
   "cell_type": "code",
   "execution_count": 810,
   "id": "ranging-barrel",
   "metadata": {},
   "outputs": [
    {
     "data": {
      "text/plain": [
       "array([[1.0e-08, 2.0e-08, 5.0e-08, 3.0e-08],\n",
       "       [2.0e-08, 4.0e-08, 1.0e-07, 6.0e-08],\n",
       "       [5.0e-08, 1.0e-07, 2.5e-07, 1.5e-07],\n",
       "       [3.0e-08, 6.0e-08, 1.5e-07, 9.0e-08]])"
      ]
     },
     "execution_count": 810,
     "metadata": {},
     "output_type": "execute_result"
    }
   ],
   "source": [
    "rocket_jp_array = np.multiply.outer(k,m)\n",
    "rocket_jp_array"
   ]
  },
  {
   "cell_type": "markdown",
   "id": "express-offering",
   "metadata": {},
   "source": [
    "The diagonal values are redundant and are replaced with 0."
   ]
  },
  {
   "cell_type": "code",
   "execution_count": 811,
   "id": "coated-evanescence",
   "metadata": {},
   "outputs": [
    {
     "data": {
      "text/plain": [
       "array([1.0e-08, 4.0e-08, 2.5e-07, 9.0e-08])"
      ]
     },
     "execution_count": 811,
     "metadata": {},
     "output_type": "execute_result"
    }
   ],
   "source": [
    "np.diag(rocket_jp_array)"
   ]
  },
  {
   "cell_type": "code",
   "execution_count": 812,
   "id": "unknown-honor",
   "metadata": {},
   "outputs": [],
   "source": [
    "np.fill_diagonal(rocket_jp_array, 0)"
   ]
  },
  {
   "cell_type": "code",
   "execution_count": 813,
   "id": "running-update",
   "metadata": {},
   "outputs": [
    {
     "name": "stdout",
     "output_type": "stream",
     "text": [
      "<class 'pandas.core.frame.DataFrame'>\n"
     ]
    },
    {
     "data": {
      "text/html": [
       "<div>\n",
       "<style scoped>\n",
       "    .dataframe tbody tr th:only-of-type {\n",
       "        vertical-align: middle;\n",
       "    }\n",
       "\n",
       "    .dataframe tbody tr th {\n",
       "        vertical-align: top;\n",
       "    }\n",
       "\n",
       "    .dataframe thead th {\n",
       "        text-align: right;\n",
       "    }\n",
       "</style>\n",
       "<table border=\"1\" class=\"dataframe\">\n",
       "  <thead>\n",
       "    <tr style=\"text-align: right;\">\n",
       "      <th></th>\n",
       "      <th>Guide</th>\n",
       "      <th>Pumps</th>\n",
       "      <th>Oxidizer</th>\n",
       "      <th>Frame</th>\n",
       "    </tr>\n",
       "  </thead>\n",
       "  <tbody>\n",
       "    <tr>\n",
       "      <th>Guide</th>\n",
       "      <td>0.000000e+00</td>\n",
       "      <td>2.000000e-08</td>\n",
       "      <td>5.000000e-08</td>\n",
       "      <td>3.000000e-08</td>\n",
       "    </tr>\n",
       "    <tr>\n",
       "      <th>Pumps</th>\n",
       "      <td>2.000000e-08</td>\n",
       "      <td>0.000000e+00</td>\n",
       "      <td>1.000000e-07</td>\n",
       "      <td>6.000000e-08</td>\n",
       "    </tr>\n",
       "    <tr>\n",
       "      <th>Oxidizer</th>\n",
       "      <td>5.000000e-08</td>\n",
       "      <td>1.000000e-07</td>\n",
       "      <td>0.000000e+00</td>\n",
       "      <td>1.500000e-07</td>\n",
       "    </tr>\n",
       "    <tr>\n",
       "      <th>Frame</th>\n",
       "      <td>3.000000e-08</td>\n",
       "      <td>6.000000e-08</td>\n",
       "      <td>1.500000e-07</td>\n",
       "      <td>0.000000e+00</td>\n",
       "    </tr>\n",
       "  </tbody>\n",
       "</table>\n",
       "</div>"
      ],
      "text/plain": [
       "                 Guide         Pumps      Oxidizer         Frame\n",
       "Guide     0.000000e+00  2.000000e-08  5.000000e-08  3.000000e-08\n",
       "Pumps     2.000000e-08  0.000000e+00  1.000000e-07  6.000000e-08\n",
       "Oxidizer  5.000000e-08  1.000000e-07  0.000000e+00  1.500000e-07\n",
       "Frame     3.000000e-08  6.000000e-08  1.500000e-07  0.000000e+00"
      ]
     },
     "execution_count": 813,
     "metadata": {},
     "output_type": "execute_result"
    }
   ],
   "source": [
    "rocket_jp_df = pd.DataFrame(rocket_jp_array, columns=['Guide', 'Pumps', 'Oxidizer', 'Frame'],\n",
    "               index=['Guide', 'Pumps', 'Oxidizer', 'Frame']).round(9)\n",
    "\n",
    "print(type(rocket_jp_df))\n",
    "\n",
    "rocket_jp_df "
   ]
  },
  {
   "cell_type": "markdown",
   "id": "rolled-provider",
   "metadata": {},
   "source": [
    "A similar matrix is calculated for working parts."
   ]
  },
  {
   "cell_type": "code",
   "execution_count": 814,
   "id": "accessible-president",
   "metadata": {},
   "outputs": [],
   "source": [
    "# rocket_jp_df.describe()"
   ]
  },
  {
   "cell_type": "code",
   "execution_count": 815,
   "id": "prospective-conversion",
   "metadata": {},
   "outputs": [
    {
     "data": {
      "text/html": [
       "<div>\n",
       "<style scoped>\n",
       "    .dataframe tbody tr th:only-of-type {\n",
       "        vertical-align: middle;\n",
       "    }\n",
       "\n",
       "    .dataframe tbody tr th {\n",
       "        vertical-align: top;\n",
       "    }\n",
       "\n",
       "    .dataframe thead th {\n",
       "        text-align: right;\n",
       "    }\n",
       "</style>\n",
       "<table border=\"1\" class=\"dataframe\">\n",
       "  <thead>\n",
       "    <tr style=\"text-align: right;\">\n",
       "      <th></th>\n",
       "      <th>Guide</th>\n",
       "      <th>Pumps</th>\n",
       "      <th>Oxidizer</th>\n",
       "      <th>Frame</th>\n",
       "    </tr>\n",
       "  </thead>\n",
       "  <tbody>\n",
       "    <tr>\n",
       "      <th>Guide</th>\n",
       "      <td>0.00000</td>\n",
       "      <td>0.99970</td>\n",
       "      <td>0.99985</td>\n",
       "      <td>0.99987</td>\n",
       "    </tr>\n",
       "    <tr>\n",
       "      <th>Pumps</th>\n",
       "      <td>0.99970</td>\n",
       "      <td>0.00000</td>\n",
       "      <td>0.99975</td>\n",
       "      <td>0.99977</td>\n",
       "    </tr>\n",
       "    <tr>\n",
       "      <th>Oxidizer</th>\n",
       "      <td>0.99985</td>\n",
       "      <td>0.99975</td>\n",
       "      <td>0.00000</td>\n",
       "      <td>0.99992</td>\n",
       "    </tr>\n",
       "    <tr>\n",
       "      <th>Frame</th>\n",
       "      <td>0.99987</td>\n",
       "      <td>0.99977</td>\n",
       "      <td>0.99992</td>\n",
       "      <td>0.00000</td>\n",
       "    </tr>\n",
       "  </tbody>\n",
       "</table>\n",
       "</div>"
      ],
      "text/plain": [
       "            Guide    Pumps  Oxidizer    Frame\n",
       "Guide     0.00000  0.99970   0.99985  0.99987\n",
       "Pumps     0.99970  0.00000   0.99975  0.99977\n",
       "Oxidizer  0.99985  0.99975   0.00000  0.99992\n",
       "Frame     0.99987  0.99977   0.99992  0.00000"
      ]
     },
     "execution_count": 815,
     "metadata": {},
     "output_type": "execute_result"
    }
   ],
   "source": [
    "t = np.array([0.9999, 0.9998, 0.99995, 0.99997] )\n",
    "z = np.array([0.9999, 0.9998, 0.99995, 0.99997])\n",
    "\n",
    "rocket_jp_work = np.multiply.outer(t,z)\n",
    "np.fill_diagonal(rocket_jp_work, 0)\n",
    "\n",
    "rocket_jp_df_w = pd.DataFrame(rocket_jp_work, columns=['Guide', 'Pumps', 'Oxidizer', 'Frame'],\n",
    "                 index=['Guide', 'Pumps', 'Oxidizer', 'Frame'])\n",
    "\n",
    "rocket_jp_df_w"
   ]
  },
  {
   "cell_type": "markdown",
   "id": "eleven-waterproof",
   "metadata": {},
   "source": [
    "### Conditional probabilities - Probability of A given B\n",
    "\n",
    "<p>\n",
    "P(A|B) = P(A and B) / P(B)\n",
    "</p> \n",
    "\n",
    "<p>\n",
    "In probability theory, conditional probability is a measure of the probability of an event occurring, given that another event (by assumption, presumption, assertion or evidence) has already occurred.[1] If the event of interest is A and the event B is known or assumed to have occurred, \"the conditional probability of A given B\", or \"the probability of A under the condition B\", is usually written as P(A|B)or sometimes PB(A) or P(A/B).<br>\n",
    "<a href=\"https://en.wikipedia.org/wiki/Conditional_probability\" target=\"_blank\">Wikipedia</a>     \n",
    "</p> \n",
    "\n",
    "<p>\n",
    "The table shows the distribution of Democratic and Republican U.S. Senators by gender in the 114th Congress as of January 2015.<br>\n",
    "<a href=\"https://math.libretexts.org/Bookshelves/Applied_Mathematics/Book%3A_Applied_Finite_Mathematics_(Sekhon_and_Bloom)/08%3A_Probability/8.04%3A_Conditional_Probability/8.4.01%3A_Conditional_Probability_(Exercises)\" target=\"_blank\">math.libretexts</a> \n",
    "</p> \n",
    "\n",
    "<p>\n",
    "It is a a contingency table (also known as a cross tabulation or crosstab) is a type of table in a matrix format that displays the (multivariate) frequency distribution of the variables.<br>\n",
    "<a href=\"https://en.wikipedia.org/wiki/Contingency_tables://www.w3schools.com\" target=\"_blank\">Wikipedia</a> \n",
    "</p> \n",
    "\n",
    "<p>\n",
    "For probability calculations in a contingency table the sample space is limited to the appropriate column or row and comparing the value of interest with the total number of cases in that particular column or row.\n",
    "</p> \n"
   ]
  },
  {
   "cell_type": "code",
   "execution_count": 816,
   "id": "average-incentive",
   "metadata": {},
   "outputs": [
    {
     "name": "stdout",
     "output_type": "stream",
     "text": [
      "                 Male (M)  Female (F)\n",
      "Democrats (D)          30          14\n",
      "Republicans (R)        48           6\n",
      "Other (0)               2           0\n"
     ]
    },
    {
     "data": {
      "text/plain": [
       "Index(['Democrats (D)', 'Republicans (R)', 'Other (0)'], dtype='object')"
      ]
     },
     "execution_count": 816,
     "metadata": {},
     "output_type": "execute_result"
    }
   ],
   "source": [
    "senat =      pd.DataFrame({'Male (M)':[30,48,2], 'Female (F)':[14,6,0]}, \n",
    "             index=['Democrats (D)', 'Republicans (R)', 'Other (0)'])\n",
    "\n",
    "print(senat)\n",
    "senat.index"
   ]
  },
  {
   "cell_type": "code",
   "execution_count": 817,
   "id": "saving-antique",
   "metadata": {},
   "outputs": [
    {
     "data": {
      "text/plain": [
       "Index(['Democrats (D)', 'Republicans (R)', 'Other (0)'], dtype='object')"
      ]
     },
     "execution_count": 817,
     "metadata": {},
     "output_type": "execute_result"
    }
   ],
   "source": [
    "senat.index"
   ]
  },
  {
   "cell_type": "code",
   "execution_count": 818,
   "id": "honest-dragon",
   "metadata": {},
   "outputs": [],
   "source": [
    "senat_totals = {'Male (M)':senat['Male (M)'].sum(), 'Female (F)':senat['Female (F)'].sum()}\n",
    "senat_totals \n",
    "\n",
    "senat.loc['Gender totals'] = senat_totals\n",
    "senat.index.name='Party'"
   ]
  },
  {
   "cell_type": "code",
   "execution_count": 819,
   "id": "gentle-hunger",
   "metadata": {},
   "outputs": [
    {
     "data": {
      "text/html": [
       "<style  type=\"text/css\" >\n",
       "#T_6bc90_row0_col0,#T_6bc90_row0_col1,#T_6bc90_row1_col0,#T_6bc90_row1_col1,#T_6bc90_row2_col0,#T_6bc90_row2_col1,#T_6bc90_row3_col0,#T_6bc90_row3_col1{\n",
       "            background:  magenta;\n",
       "            color:  blue;\n",
       "            precision:  15;\n",
       "        }</style><table id=\"T_6bc90_\" ><thead>    <tr>        <th class=\"blank level0\" ></th>        <th class=\"col_heading level0 col0\" >Male (M)</th>        <th class=\"col_heading level0 col1\" >Female (F)</th>    </tr>    <tr>        <th class=\"index_name level0\" >Party</th>        <th class=\"blank\" ></th>        <th class=\"blank\" ></th>    </tr></thead><tbody>\n",
       "                <tr>\n",
       "                        <th id=\"T_6bc90_level0_row0\" class=\"row_heading level0 row0\" >Democrats (D)</th>\n",
       "                        <td id=\"T_6bc90_row0_col0\" class=\"data row0 col0\" >30</td>\n",
       "                        <td id=\"T_6bc90_row0_col1\" class=\"data row0 col1\" >14</td>\n",
       "            </tr>\n",
       "            <tr>\n",
       "                        <th id=\"T_6bc90_level0_row1\" class=\"row_heading level0 row1\" >Republicans (R)</th>\n",
       "                        <td id=\"T_6bc90_row1_col0\" class=\"data row1 col0\" >48</td>\n",
       "                        <td id=\"T_6bc90_row1_col1\" class=\"data row1 col1\" >6</td>\n",
       "            </tr>\n",
       "            <tr>\n",
       "                        <th id=\"T_6bc90_level0_row2\" class=\"row_heading level0 row2\" >Other (0)</th>\n",
       "                        <td id=\"T_6bc90_row2_col0\" class=\"data row2 col0\" >2</td>\n",
       "                        <td id=\"T_6bc90_row2_col1\" class=\"data row2 col1\" >0</td>\n",
       "            </tr>\n",
       "            <tr>\n",
       "                        <th id=\"T_6bc90_level0_row3\" class=\"row_heading level0 row3\" >Gender totals</th>\n",
       "                        <td id=\"T_6bc90_row3_col0\" class=\"data row3 col0\" >80</td>\n",
       "                        <td id=\"T_6bc90_row3_col1\" class=\"data row3 col1\" >20</td>\n",
       "            </tr>\n",
       "    </tbody></table>"
      ],
      "text/plain": [
       "<pandas.io.formats.style.Styler at 0x21310473248>"
      ]
     },
     "execution_count": 819,
     "metadata": {},
     "output_type": "execute_result"
    }
   ],
   "source": [
    "senat.style.set_properties(**{'background':'magenta','color': 'blue'}, precision=15)"
   ]
  },
  {
   "cell_type": "code",
   "execution_count": 820,
   "id": "cross-consumption",
   "metadata": {},
   "outputs": [],
   "source": [
    "# senat_rowsums = {}\n",
    "\n",
    "for i, row in senat.iterrows():\n",
    "    nrow = senat.loc[i,:].sum()\n",
    "    senat.loc[i,'Party Totals'] = nrow\n",
    "    \n",
    "# type(senat.loc['Democrats','Party Totals'])"
   ]
  },
  {
   "cell_type": "code",
   "execution_count": 821,
   "id": "modern-herald",
   "metadata": {},
   "outputs": [
    {
     "data": {
      "text/html": [
       "<div>\n",
       "<style scoped>\n",
       "    .dataframe tbody tr th:only-of-type {\n",
       "        vertical-align: middle;\n",
       "    }\n",
       "\n",
       "    .dataframe tbody tr th {\n",
       "        vertical-align: top;\n",
       "    }\n",
       "\n",
       "    .dataframe thead th {\n",
       "        text-align: right;\n",
       "    }\n",
       "</style>\n",
       "<table border=\"1\" class=\"dataframe\">\n",
       "  <thead>\n",
       "    <tr style=\"text-align: right;\">\n",
       "      <th></th>\n",
       "      <th>Male (M)</th>\n",
       "      <th>Female (F)</th>\n",
       "      <th>Party Totals</th>\n",
       "    </tr>\n",
       "    <tr>\n",
       "      <th>Party</th>\n",
       "      <th></th>\n",
       "      <th></th>\n",
       "      <th></th>\n",
       "    </tr>\n",
       "  </thead>\n",
       "  <tbody>\n",
       "    <tr>\n",
       "      <th>Democrats (D)</th>\n",
       "      <td>30</td>\n",
       "      <td>14</td>\n",
       "      <td>44.0</td>\n",
       "    </tr>\n",
       "    <tr>\n",
       "      <th>Republicans (R)</th>\n",
       "      <td>48</td>\n",
       "      <td>6</td>\n",
       "      <td>54.0</td>\n",
       "    </tr>\n",
       "    <tr>\n",
       "      <th>Other (0)</th>\n",
       "      <td>2</td>\n",
       "      <td>0</td>\n",
       "      <td>2.0</td>\n",
       "    </tr>\n",
       "    <tr>\n",
       "      <th>Gender totals</th>\n",
       "      <td>80</td>\n",
       "      <td>20</td>\n",
       "      <td>100.0</td>\n",
       "    </tr>\n",
       "  </tbody>\n",
       "</table>\n",
       "</div>"
      ],
      "text/plain": [
       "                 Male (M)  Female (F)  Party Totals\n",
       "Party                                              \n",
       "Democrats (D)          30          14          44.0\n",
       "Republicans (R)        48           6          54.0\n",
       "Other (0)               2           0           2.0\n",
       "Gender totals          80          20         100.0"
      ]
     },
     "execution_count": 821,
     "metadata": {},
     "output_type": "execute_result"
    }
   ],
   "source": [
    "senat"
   ]
  },
  {
   "cell_type": "code",
   "execution_count": 822,
   "id": "separate-interaction",
   "metadata": {},
   "outputs": [
    {
     "name": "stdout",
     "output_type": "stream",
     "text": [
      "68.18\n"
     ]
    }
   ],
   "source": [
    "# P(M|D)\n",
    "P_M_given_D = round(30/44 * 100,2)\n",
    "print(P_M_given_D)"
   ]
  },
  {
   "cell_type": "code",
   "execution_count": 823,
   "id": "challenging-intake",
   "metadata": {},
   "outputs": [
    {
     "name": "stdout",
     "output_type": "stream",
     "text": [
      "55.0\n"
     ]
    }
   ],
   "source": [
    "# P(D|M)\n",
    "P_D_given_M = round(44/80*100,2)\n",
    "print(P_D_given_M)"
   ]
  },
  {
   "cell_type": "code",
   "execution_count": 824,
   "id": "paperback-apartment",
   "metadata": {},
   "outputs": [
    {
     "name": "stdout",
     "output_type": "stream",
     "text": [
      "11.11\n"
     ]
    }
   ],
   "source": [
    "# P(F|R)\n",
    "P_F_given_R = round((6/54)*100,2)\n",
    "print(P_F_given_R)"
   ]
  },
  {
   "cell_type": "code",
   "execution_count": 825,
   "id": "wireless-familiar",
   "metadata": {},
   "outputs": [
    {
     "name": "stdout",
     "output_type": "stream",
     "text": [
      "30.0\n"
     ]
    }
   ],
   "source": [
    "# P(R|F)\n",
    "P_R_given_F = round(6/20*100,2)\n",
    "print(P_R_given_F)"
   ]
  },
  {
   "cell_type": "code",
   "execution_count": 826,
   "id": "frank-nerve",
   "metadata": {},
   "outputs": [
    {
     "name": "stdout",
     "output_type": "stream",
     "text": [
      "70.0\n"
     ]
    }
   ],
   "source": [
    "# P(D|F)\n",
    "P_D_given_F = round(14/20*100,2)\n",
    "print(P_D_given_F)"
   ]
  },
  {
   "cell_type": "code",
   "execution_count": 827,
   "id": "fourth-learning",
   "metadata": {},
   "outputs": [
    {
     "name": "stdout",
     "output_type": "stream",
     "text": [
      "60.0\n"
     ]
    }
   ],
   "source": [
    "# P(R|M)\n",
    "P_R_given_M = round(48/80*100,2)\n",
    "print(P_R_given_M)"
   ]
  },
  {
   "cell_type": "code",
   "execution_count": 828,
   "id": "refined-sessions",
   "metadata": {},
   "outputs": [
    {
     "name": "stdout",
     "output_type": "stream",
     "text": [
      "37.5\n"
     ]
    }
   ],
   "source": [
    "# P(D|M)\n",
    "P_D_given_M = round(30/80*100,2)\n",
    "print(P_D_given_M )"
   ]
  },
  {
   "cell_type": "code",
   "execution_count": 829,
   "id": "expected-jordan",
   "metadata": {},
   "outputs": [
    {
     "name": "stdout",
     "output_type": "stream",
     "text": [
      "100.0\n"
     ]
    }
   ],
   "source": [
    "# P(M|O)\n",
    "P_M_given_O = round(2/2*100, 2)\n",
    "print(P_M_given_O)"
   ]
  },
  {
   "cell_type": "code",
   "execution_count": 830,
   "id": "identical-reggae",
   "metadata": {},
   "outputs": [
    {
     "name": "stdout",
     "output_type": "stream",
     "text": [
      "100.0\n"
     ]
    }
   ],
   "source": [
    "# P(O|M)\n",
    "P_O_given_M = round(2/2*100, 2)\n",
    "print(P_O_given_M)"
   ]
  },
  {
   "cell_type": "code",
   "execution_count": 831,
   "id": "permanent-knitting",
   "metadata": {},
   "outputs": [
    {
     "name": "stdout",
     "output_type": "stream",
     "text": [
      "0.0\n"
     ]
    }
   ],
   "source": [
    "# P(O|F)\n",
    "P_0_given_F = round(0/2*100, 2)\n",
    "print(P_0_given_F)"
   ]
  },
  {
   "cell_type": "markdown",
   "id": "accessory-intent",
   "metadata": {},
   "source": [
    "<b>Excercise:</b><br>\n",
    "<p>\n",
    "At a college, 20% of the students take Finite Math, 30% take History, and 5% take both Finite Math and History. \n",
    "If a student is chosen at random, find the following conditional probabilities. \n",
    "</p> \n",
    "\n",
    "<p>\n",
    "P(Math AND History) = 0.05<br>\n",
    "P(A|B) = P(A AND B) / P(B)\n",
    "</p> \n",
    " "
   ]
  },
  {
   "cell_type": "code",
   "execution_count": 832,
   "id": "alive-citizenship",
   "metadata": {},
   "outputs": [
    {
     "name": "stdout",
     "output_type": "stream",
     "text": [
      "16.67\n"
     ]
    }
   ],
   "source": [
    "# He is taking Finite Math given that he is taking History.\n",
    "# P(Math | History)\n",
    "P_Math_given_History = round((0.05/0.3)*100,2)\n",
    "print(P_Math_given_History)\n"
   ]
  },
  {
   "cell_type": "code",
   "execution_count": 833,
   "id": "comfortable-hello",
   "metadata": {},
   "outputs": [
    {
     "name": "stdout",
     "output_type": "stream",
     "text": [
      "25.0\n"
     ]
    }
   ],
   "source": [
    "# He is taking History assuming that he is taking Finite Math.\n",
    "# P(History|Math)\n",
    "P_History_given_Math = round((0.05 / 0.2)*100,2)\n",
    "print(P_History_given_Math )"
   ]
  },
  {
   "cell_type": "markdown",
   "id": "bizarre-dublin",
   "metadata": {},
   "source": [
    "<b>Excercise:</b><br>\n",
    "\n",
    "<p>\n",
    "The probability that a car being filled with petrol will also need an oil \n",
    "change is 0.30; the probability that it needs a new oil filter is 0.40; and \n",
    "the probability that both the oil and filter need changing is 0.15.<br>\n",
    "<a href=\" https://www.onlinemath4all.com/conditional-probability-problems-with-solutions.html\" target=\"_blank\">onlinemath</a>    \n",
    "</p> \n",
    "\n",
    "<p>\n",
    "P(oil filter | oil change)<br>\n",
    "P(oil filter AND oil change) = 0.15 - joint probability P(A AND B)<br>\n",
    "P(oil change) = 0.3<br>\n",
    "P(oil filter) = 0.4\n",
    "</p> \n",
    "\n",
    "<p>\n",
    "P(A|B) = P(A AND B) / P(B)\n",
    "</p> \n"
   ]
  },
  {
   "cell_type": "code",
   "execution_count": 834,
   "id": "proper-strike",
   "metadata": {},
   "outputs": [
    {
     "name": "stdout",
     "output_type": "stream",
     "text": [
      "50.0\n",
      "37.5\n"
     ]
    }
   ],
   "source": [
    "# If the oil had to be changed, what is the probability that a new oil filter is needed?\n",
    "P_oilfilter_given_oilchange = 0.15 / 0.3\n",
    "print(round(P_oilfilter_given_oilchange*100,2))\n",
    "\n",
    "# If a new oil filter is needed, what is the probability that the oil has to be changed?\n",
    "P_oilchange_given_oilfilter =  0.15 / 0.4\n",
    "print(round(P_oilchange_given_oilfilter*100,2))"
   ]
  },
  {
   "cell_type": "markdown",
   "id": "sufficient-logging",
   "metadata": {},
   "source": [
    "<b>Excercise:</b><br>\n",
    "\n",
    "<p>\n",
    "Problem: A math teacher gave her class two tests. 25% of the class passed both tests \n",
    "and 42% of the class passed the first test. \n",
    "What percent of those who passed the first test also passed the second test?<br>\n",
    "<a href=\"https://www.mathgoodies.com/lessons/vol6/conditional\" target=\"_blank\">mathgoodies</a>    \n",
    "</p>\n",
    "\n",
    "<p>\n",
    "P(2test AND 1test) = 0.25<br>\n",
    "P(1test) = 0.42<br>\n",
    "P(2test | 1test) = ?<br>\n",
    "</p>\n"
   ]
  },
  {
   "cell_type": "code",
   "execution_count": 835,
   "id": "marine-extreme",
   "metadata": {},
   "outputs": [
    {
     "name": "stdout",
     "output_type": "stream",
     "text": [
      "60.0\n"
     ]
    }
   ],
   "source": [
    "P_2_given_1 = round(0.25 / 0.42*100,0)\n",
    "print(P_2_given_1 )\n"
   ]
  },
  {
   "cell_type": "markdown",
   "id": "valid-edinburgh",
   "metadata": {},
   "source": [
    "<b>Excercise:</b><br>\n",
    "\n",
    "<p>\n",
    "In New York State, 48% of all teenagers own a skateboard and 39% of all teenagers own a skateboard \n",
    "and roller blades.<br> \n",
    "What is the probability that a teenager owns roller blades given that the teenager owns a skateboard?<br>\n",
    "<a href=\"https://www.mathgoodies.com/lessons/vol6/conditional\" target=\"_blank\">mathgoodies</a>    \n",
    "</p>\n",
    "\n",
    "<p>\n",
    "P(Skate) = 0.48 (marginal proba)<br>\n",
    "P(Skate AND Blades) = 0.39<br>\n",
    "P(Blades | Skate) = ?\n",
    "</p>\n",
    "\n",
    "\n"
   ]
  },
  {
   "cell_type": "code",
   "execution_count": 836,
   "id": "primary-frame",
   "metadata": {},
   "outputs": [
    {
     "name": "stdout",
     "output_type": "stream",
     "text": [
      "81.25\n"
     ]
    }
   ],
   "source": [
    "P_b_s = round(0.39/0.48*100,2)\n",
    "print(P_b_s)"
   ]
  },
  {
   "cell_type": "markdown",
   "id": "monetary-provider",
   "metadata": {},
   "source": [
    "### Law of Total Probability\n",
    "\n",
    "<p>\n",
    "P(A) = Sum P(A|B) * P(B)\n",
    "</p> \n",
    "\n",
    "<p>\n",
    "In probability theory, the law of total probability is a useful way to find the probability of some event A when we don’t directly know the probability of A but we do know that events B1, B2, B3… form a partition of the sample space S.<br>\n",
    "<a href=\"https://www.statology.org/law-of-total-probability/\" target=\"_blank\">statology</a> \n",
    "</p> \n",
    "\n",
    "<p>\n",
    "<b>Excercise widget defects:</b><br>\n",
    "Company A supplies 80% of widgets for a car shop and only 1% of their widgets turn out to be defective. \n",
    "Company B supplies the remaining 20% of widgets for the car shop and 3% of their widgets turn out to be defective.<br>\n",
    "If a customer randomly purchases a widget from the car shop, what is the probability that it will be defective?\n",
    "</p> \n",
    "\n",
    "<p>\n",
    "P(A) = 0.8 (marginal proba)<br>\n",
    "P(defect | A) = 0.01<br>\n",
    "P(B) = 0.2 (marginal proba)<br>\n",
    "P(defect | B) = 0.03<br>\n",
    "P(defect) = P(A)*P(defect | A) + P(B)*P(defect | B)\n",
    "</p> "
   ]
  },
  {
   "cell_type": "code",
   "execution_count": 837,
   "id": "smoking-matthew",
   "metadata": {},
   "outputs": [
    {
     "name": "stdout",
     "output_type": "stream",
     "text": [
      "0.014\n",
      "1.4\n"
     ]
    }
   ],
   "source": [
    "P_defect = 0.8*0.01+0.2*0.03\n",
    "print(P_defect)\n",
    "print(round(P_defect*100,2))"
   ]
  },
  {
   "cell_type": "markdown",
   "id": "promotional-restoration",
   "metadata": {},
   "source": [
    "<p>\n",
    "<b>Excercise: computer chip performance above target</b><br>\n",
    "A certain tablet manufacturer install computer chips of four different producers or suppliers in varying fractions:\n",
    "P1 (Wimtel): 40%, P2(DMA): 20%, P3(TSMY): 20%, and P4(Momsung): 20%.\n",
    "</p> \n",
    "\n",
    "<p>\n",
    "The probability of a integrated circuits is performing above target given that it was produced by a certain producer is:\n",
    "</p> "
   ]
  },
  {
   "cell_type": "code",
   "execution_count": 838,
   "id": "brutal-groove",
   "metadata": {},
   "outputs": [
    {
     "data": {
      "text/plain": [
       "{'P1': 0.02, 'P2': 0.08, 'P3': 0.01, 'P4': 0.02}"
      ]
     },
     "execution_count": 838,
     "metadata": {},
     "output_type": "execute_result"
    }
   ],
   "source": [
    "above_performance = {}\n",
    "\n",
    "for i in range(1,5):\n",
    "    \n",
    "    # np.random.seed(4)\n",
    "    d = np.random.uniform(0,0.1,1).round(2).flatten(order='C').item()\n",
    "    # np.asscalar(d) is depreciated\n",
    "    above_performance[\"P{}\".format(i)]=  d\n",
    "\n",
    "above_performance"
   ]
  },
  {
   "cell_type": "markdown",
   "id": "unauthorized-wildlife",
   "metadata": {},
   "source": [
    "What is the total probability of a circuit performing above target?"
   ]
  },
  {
   "cell_type": "code",
   "execution_count": 839,
   "id": "middle-mauritius",
   "metadata": {},
   "outputs": [
    {
     "name": "stdout",
     "output_type": "stream",
     "text": [
      "Probability of performing above target: 3.0 %\n"
     ]
    }
   ],
   "source": [
    "P1 = 0.4 # Wimtel\n",
    "P2 = 0.2 # DMA\n",
    "P3 = 0.2 # TSMY\n",
    "P4 = 0.2 # Momsung\n",
    "\n",
    "P_AP_g_P1 = above_performance['P1']\n",
    "P_AP_g_P2 = above_performance['P2']\n",
    "P_AP_g_P3 = above_performance['P3']\n",
    "P_AP_g_P4 = above_performance['P4']\n",
    "\n",
    "P_AP = round(P1 * P_AP_g_P1 + P2 * P_AP_g_P2 + P3 * P_AP_g_P3 + P4 * P_AP_g_P4, 4)*100\n",
    "print(\"Probability of performing above target: {o} %\".format(o=P_AP))"
   ]
  },
  {
   "cell_type": "code",
   "execution_count": 840,
   "id": "cleared-configuration",
   "metadata": {},
   "outputs": [
    {
     "name": "stdout",
     "output_type": "stream",
     "text": [
      "0.0027\n"
     ]
    }
   ],
   "source": [
    "# The proba it is a Wimtel chip given it's performance\n",
    "# P(Wimtel | Performance)\n",
    "\n",
    "P_Wimtel_given_performance = round((P1 * P_AP_g_P1) / P_AP,4)\n",
    "print(P_Wimtel_given_performance)"
   ]
  },
  {
   "cell_type": "markdown",
   "id": "stock-restaurant",
   "metadata": {},
   "source": [
    "<p>\n",
    "<b>Excercise:</b><br>\n",
    "Forest A occupies 50% of the total land in a certain park and 20% of the plants in this forest are poisonous. \n",
    "Forest B occupies 30% of the total land and 40% of the plants in it are poisonous. \n",
    "Forest C occupies the remaining 20% of the land and 70% of the plants in it are poisonous.\n",
    "</p> \n",
    "\n",
    "<p>\n",
    "P(A) = 0.5<br>\n",
    "P(poison | A) = 0.2<br>\n",
    "P(B) = 0.3<br>\n",
    "P(poison | B) = 0.4<br>\n",
    "P(C) = 0.2<br>\n",
    "P(poison | C) = 0.7<br>\n",
    "P(poison) = P(A)*P(poison | A) + P(B)*P(poison| B) + P(C)*P(poison | C)\n",
    "</p> \n",
    "\n"
   ]
  },
  {
   "cell_type": "code",
   "execution_count": 841,
   "id": "durable-coffee",
   "metadata": {},
   "outputs": [
    {
     "name": "stdout",
     "output_type": "stream",
     "text": [
      "0.36\n"
     ]
    }
   ],
   "source": [
    "P_poison = 0.5*0.2+0.3*0.4+0.2*0.7\n",
    "print(P_poison)"
   ]
  },
  {
   "cell_type": "markdown",
   "id": "sunrise-dallas",
   "metadata": {},
   "source": [
    "<p>\n",
    "<b>Excercise: shareholders</b><br>\n",
    "The shareholders of the pharmaceutical \n",
    "<a href=\"https://en.wikipedia.org/wiki/List_of_Resident_Evil_characters#Umbrella_Corporation\" target=\"_blank\"> umbrella cooperation</a> are meeting for their annual conference.<br>\n",
    "The executive board is proposing an ambitious plan.<br>\n",
    "They want to set up an underground research facility for genetic engineering of viruses controlled by an \n",
    "AI called the \"Red Queen\".<br>\n",
    "The shareholders must approve or disapprove the proposal of the executive board.<br>\n",
    "<b>What is the total probability of approval?</b>\n",
    "</p> "
   ]
  },
  {
   "cell_type": "code",
   "execution_count": 842,
   "id": "practical-arbitration",
   "metadata": {},
   "outputs": [
    {
     "data": {
      "text/html": [
       "<div>\n",
       "<style scoped>\n",
       "    .dataframe tbody tr th:only-of-type {\n",
       "        vertical-align: middle;\n",
       "    }\n",
       "\n",
       "    .dataframe tbody tr th {\n",
       "        vertical-align: top;\n",
       "    }\n",
       "\n",
       "    .dataframe thead th {\n",
       "        text-align: right;\n",
       "    }\n",
       "</style>\n",
       "<table border=\"1\" class=\"dataframe\">\n",
       "  <thead>\n",
       "    <tr style=\"text-align: right;\">\n",
       "      <th></th>\n",
       "      <th>Equity</th>\n",
       "      <th>Approval</th>\n",
       "    </tr>\n",
       "    <tr>\n",
       "      <th>Shareholders</th>\n",
       "      <th></th>\n",
       "      <th></th>\n",
       "    </tr>\n",
       "  </thead>\n",
       "  <tbody>\n",
       "    <tr>\n",
       "      <th>Innovative</th>\n",
       "      <td>0.55</td>\n",
       "      <td>1.0</td>\n",
       "    </tr>\n",
       "    <tr>\n",
       "      <th>Undecided</th>\n",
       "      <td>0.25</td>\n",
       "      <td>0.7</td>\n",
       "    </tr>\n",
       "    <tr>\n",
       "      <th>Conservative</th>\n",
       "      <td>0.20</td>\n",
       "      <td>0.1</td>\n",
       "    </tr>\n",
       "  </tbody>\n",
       "</table>\n",
       "</div>"
      ],
      "text/plain": [
       "              Equity  Approval\n",
       "Shareholders                  \n",
       "Innovative      0.55       1.0\n",
       "Undecided       0.25       0.7\n",
       "Conservative    0.20       0.1"
      ]
     },
     "execution_count": 842,
     "metadata": {},
     "output_type": "execute_result"
    }
   ],
   "source": [
    "shareholders = \\\n",
    "pd.DataFrame({'Equity': [0.55, 0.25, 0.2 ], 'Approval':[1, 0.7, 0.10]}, \n",
    "             index=['Innovative' , 'Undecided', 'Conservative'])\n",
    "shareholders.index.name = \"Shareholders\"\n",
    "\n",
    "shareholders "
   ]
  },
  {
   "cell_type": "code",
   "execution_count": 843,
   "id": "fatty-divorce",
   "metadata": {},
   "outputs": [
    {
     "data": {
      "text/plain": [
       "Index(['Innovative', 'Undecided', 'Conservative'], dtype='object', name='Shareholders')"
      ]
     },
     "execution_count": 843,
     "metadata": {},
     "output_type": "execute_result"
    }
   ],
   "source": [
    "shareholders.index"
   ]
  },
  {
   "cell_type": "code",
   "execution_count": 844,
   "id": "sound-recruitment",
   "metadata": {},
   "outputs": [
    {
     "name": "stdout",
     "output_type": "stream",
     "text": [
      "0.55\n"
     ]
    }
   ],
   "source": [
    "# What is the probability that the shareholder is innovativ and supports the proposal?\n",
    "\n",
    "P_inno = shareholders.loc['Innovative', 'Equity'] # marginal proba\n",
    "P_app_given_inno = shareholders.loc['Innovative', 'Approval']\n",
    "\n",
    "# Total probability\n",
    "P_inno_app = P_inno * P_app_given_inno\n",
    "print(P_inno_app)"
   ]
  },
  {
   "cell_type": "code",
   "execution_count": 845,
   "id": "guilty-plaza",
   "metadata": {},
   "outputs": [
    {
     "name": "stdout",
     "output_type": "stream",
     "text": [
      "0.2\n",
      "0.9\n",
      "0.18\n"
     ]
    }
   ],
   "source": [
    "# What ist the probability that the shareholder is conservative and does not the support the proposal?\n",
    "P_con = shareholders.loc['Conservative', 'Equity'] # marginal proba\n",
    "print(P_con)\n",
    "P_app_given_con = shareholders.loc['Conservative', 'Approval']\n",
    "\n",
    "# Conditional probability\n",
    "P_con_given_notapp = 1 - P_app_given_con\n",
    "print(P_con_given_notapp)\n",
    "\n",
    "# Total probability\n",
    "P_con_notapp = round(P_con * P_con_given_notapp,2)\n",
    "print(P_con_notapp)"
   ]
  },
  {
   "cell_type": "code",
   "execution_count": 846,
   "id": "dimensional-flash",
   "metadata": {},
   "outputs": [
    {
     "name": "stdout",
     "output_type": "stream",
     "text": [
      "0.25\n",
      "0.7\n",
      "Total P of undecided: 0.175\n"
     ]
    }
   ],
   "source": [
    "# # What ist the probability that the shareholder is undecided and does support the proposal?\n",
    "\n",
    "P_ud = shareholders.loc['Undecided', 'Equity'] # marginal proba\n",
    "print(P_ud)\n",
    "\n",
    "P_app_given_ud = shareholders.loc['Undecided', 'Approval']\n",
    "print(P_app_given_ud)\n",
    "\n",
    "P_ud_app = P_app_given_ud * P_ud\n",
    "print(\"Total P of undecided: {}\".format(P_ud_app))"
   ]
  },
  {
   "cell_type": "code",
   "execution_count": 847,
   "id": "interested-lending",
   "metadata": {},
   "outputs": [
    {
     "name": "stdout",
     "output_type": "stream",
     "text": [
      "0.745\n"
     ]
    }
   ],
   "source": [
    "# What ist the total probability that the shareholders support the proposal?\n",
    "\n",
    "TotalP_app = round(P_con * P_app_given_con +  P_inno * P_app_given_inno  + \\\n",
    "             P_ud * P_app_given_ud,4)\n",
    "\n",
    "\n",
    "\n",
    "print(TotalP_app)\n"
   ]
  },
  {
   "cell_type": "markdown",
   "id": "curious-terrace",
   "metadata": {},
   "source": [
    "It seems like the \"Resident Evil\" is cut loose."
   ]
  },
  {
   "cell_type": "markdown",
   "id": "african-championship",
   "metadata": {},
   "source": [
    "### Bayes theorem\n",
    "\n",
    "<p>\n",
    "\"In probability theory and statistics, Bayes' theorem (alternatively Bayes' law or Bayes' rule; recently Bayes-Price theorem)), named after Reverend Thomas Bayes, describes the probability of an event, based on prior knowledge of conditions that might be related to the event. For example, if the risk of developing health problems is known to increase with age, Bayes' theorem allows the risk to an individual of a known age to be assessed more accurately (by conditioning it on their age) than simply assuming that the individual is typical of the population as a whole.\"<br>\n",
    "<a href=\"https://en.wikipedia.org/wiki/Bayes%27_theorem\" target=\"_blank\">Wikipedia</a> \n",
    "</p> \n",
    "\n",
    "<p>\n",
    "The theorem allows statements about individual cases derived from known probabilities.\n",
    "(The statements of course remain probabilities and not factual.)<br>\n",
    "It relies on concepts explained above like conditional or total probabilities.<br>\n",
    "Essentially Bayes theorem calculates the conditional probabilities on the partitioned nonoverlapping sample space. In Bayes terms the risk that an individual of type A has health problems given the age (B) is expressed as:\n",
    "</p>\n",
    "<p>\n",
    "P(A | B) = P(A) * P(B | A) / P(B)   \n",
    "</p> \n",
    "<p>\n",
    "<p>\n",
    "Taken the case above:<br>\n",
    "<b>P(DMC | Performance) = P(DMC) * P(Performance | DMC) / P(Performance)</b><br>\n",
    "P(DMC): presence or prevalence of DMC circuits in the sample space of circuits<br>\n",
    "P(Performance | DMC): the probability of performance given a DMC chip (conditional probas)<br>\n",
    "P(Performance): the total probability of performance above the whole sample space\n",
    "</p> "
   ]
  },
  {
   "cell_type": "code",
   "execution_count": 848,
   "id": "threatened-slovak",
   "metadata": {},
   "outputs": [
    {
     "name": "stdout",
     "output_type": "stream",
     "text": [
      "Probability of performing above target: 3.0 %\n"
     ]
    }
   ],
   "source": [
    "P1 = 0.4 # Wimtel\n",
    "P2 = 0.2 # DMA\n",
    "P3 = 0.2 # TSMY\n",
    "P4 = 0.2 # Momsung\n",
    "\n",
    "P_AP_g_P1 = above_performance['P1']\n",
    "P_AP_g_P2 = above_performance['P2']\n",
    "P_AP_g_P3 = above_performance['P3']\n",
    "P_AP_g_P4 = above_performance['P4']\n",
    "\n",
    "P_AP = round(P1 * P_AP_g_P1 + P2 * P_AP_g_P2 + P3 * P_AP_g_P3 + P4 * P_AP_g_P4, 4)*100\n",
    "print(\"Probability of performing above target: {o} %\".format(o=P_AP))\n"
   ]
  },
  {
   "cell_type": "code",
   "execution_count": 849,
   "id": "overhead-grill",
   "metadata": {},
   "outputs": [
    {
     "data": {
      "text/plain": [
       "{'Wimtel': 0.0026666666666666666,\n",
       " 'DMA': 0.005333333333333333,\n",
       " 'TSMY': 0.0006666666666666666,\n",
       " 'Momsung': 0.0013333333333333333}"
      ]
     },
     "execution_count": 849,
     "metadata": {},
     "output_type": "execute_result"
    }
   ],
   "source": [
    "prevalences_chips = [P1, P2, P3, P4]\n",
    "cond_proba_chips = [P_AP_g_P1, P_AP_g_P2, P_AP_g_P3, P_AP_g_P4]\n",
    "names_chips = [\"Wimtel\", \"DMA\", \"TSMY\", \"Momsung\"]\n",
    "\n",
    "# p producer (or supplier) given_performance\n",
    "# positive predictive value\n",
    "bayes_predictions = {}\n",
    "\n",
    "for i in range(0,4):\n",
    "  \n",
    "    bayes_prediction = (prevalences_chips[i] * cond_proba_chips[i]) / P_AP\n",
    "    bayes_predictions[names_chips[i]] = bayes_prediction\n",
    "    \n",
    "    \n",
    "bayes_predictions\n"
   ]
  },
  {
   "cell_type": "code",
   "execution_count": 850,
   "id": "painful-hobby",
   "metadata": {},
   "outputs": [],
   "source": [
    "bayes_predictions_df = \\\n",
    "pd.DataFrame(bayes_predictions.values(), index=bayes_predictions.keys(), \\\n",
    "             columns=[\"Performance prediction\"])\n"
   ]
  },
  {
   "cell_type": "code",
   "execution_count": 851,
   "id": "elect-server",
   "metadata": {},
   "outputs": [],
   "source": [
    "for i, row in bayes_predictions_df.iterrows():\n",
    "    bayes_predictions_df.loc[i,\"Percentage %\"] = round(row[\"Performance prediction\"]*100,4)\n"
   ]
  },
  {
   "cell_type": "code",
   "execution_count": 852,
   "id": "contemporary-convertible",
   "metadata": {},
   "outputs": [
    {
     "data": {
      "text/html": [
       "<div>\n",
       "<style scoped>\n",
       "    .dataframe tbody tr th:only-of-type {\n",
       "        vertical-align: middle;\n",
       "    }\n",
       "\n",
       "    .dataframe tbody tr th {\n",
       "        vertical-align: top;\n",
       "    }\n",
       "\n",
       "    .dataframe thead th {\n",
       "        text-align: right;\n",
       "    }\n",
       "</style>\n",
       "<table border=\"1\" class=\"dataframe\">\n",
       "  <thead>\n",
       "    <tr style=\"text-align: right;\">\n",
       "      <th></th>\n",
       "      <th>Performance prediction</th>\n",
       "      <th>Percentage %</th>\n",
       "    </tr>\n",
       "  </thead>\n",
       "  <tbody>\n",
       "    <tr>\n",
       "      <th>Wimtel</th>\n",
       "      <td>0.002667</td>\n",
       "      <td>0.2667</td>\n",
       "    </tr>\n",
       "    <tr>\n",
       "      <th>DMA</th>\n",
       "      <td>0.005333</td>\n",
       "      <td>0.5333</td>\n",
       "    </tr>\n",
       "    <tr>\n",
       "      <th>TSMY</th>\n",
       "      <td>0.000667</td>\n",
       "      <td>0.0667</td>\n",
       "    </tr>\n",
       "    <tr>\n",
       "      <th>Momsung</th>\n",
       "      <td>0.001333</td>\n",
       "      <td>0.1333</td>\n",
       "    </tr>\n",
       "  </tbody>\n",
       "</table>\n",
       "</div>"
      ],
      "text/plain": [
       "         Performance prediction  Percentage %\n",
       "Wimtel                 0.002667        0.2667\n",
       "DMA                    0.005333        0.5333\n",
       "TSMY                   0.000667        0.0667\n",
       "Momsung                0.001333        0.1333"
      ]
     },
     "execution_count": 852,
     "metadata": {},
     "output_type": "execute_result"
    }
   ],
   "source": [
    "bayes_predictions_df"
   ]
  },
  {
   "cell_type": "markdown",
   "id": "closed-consensus",
   "metadata": {},
   "source": [
    "<p>\n",
    "The performance above target for every supplier is rather low below 1%.\n",
    "</p> \n",
    "\n",
    "<p>\n",
    "<b>Excercise: active investing</b><br>\n",
    "A hedge fund manager with an active management approach is\n",
    "looking for good investment opportunities and thinks she\n",
    "has found a pattern.\n",
    "</p> \n",
    "\n",
    "<p>\n",
    "She has researched 1000 companies and determined that 450 of those\n",
    "with a growth of 11% in 3 years have introduced a\n",
    "new innovative product with digital enhancements into the market.\n",
    "This is a huge growth rate higher than the market growth. \n",
    "The probability of stock prises growing 11% is only 3%. \n",
    "In opposite to this stands the fact that 210 of companies with similar digital\n",
    "enhanced products did not grow 11% but far lower. \n",
    "</p> \n",
    "\n",
    "<p>\n",
    "<b>What is the probability that a company with digital\n",
    "enhanced products is going to grow around 11%?</b><br>\n",
    "Applying the Bayes' theorem can answer this question.\n",
    "The information above must be brought into the Bayes formula for this purpose.\n",
    "</p> \n",
    "\n",
    "<p>\n",
    "<b>Marginal probability</b><br>\n",
    "Prevalence of growth companies in the sample space of 1000 companies.<br>\n",
    "65% of companies growing by 11%.<br>\n",
    "P(A) = P(11) = 650 / 1000<br>\n",
    "</p> \n"
   ]
  },
  {
   "cell_type": "code",
   "execution_count": 853,
   "id": "polished-interview",
   "metadata": {},
   "outputs": [
    {
     "name": "stdout",
     "output_type": "stream",
     "text": [
      "0.65\n"
     ]
    }
   ],
   "source": [
    "P_A11 = 650 / 1000\n",
    "print(P_A11)"
   ]
  },
  {
   "cell_type": "markdown",
   "id": "aboriginal-arnold",
   "metadata": {},
   "source": [
    "The probability of digital products given the stock price has increased by 11%.<br>\n",
    "P(B|A) = P(DP|11)"
   ]
  },
  {
   "cell_type": "code",
   "execution_count": 854,
   "id": "desperate-brunei",
   "metadata": {},
   "outputs": [],
   "source": [
    "P_DP_11 = 0.03"
   ]
  },
  {
   "cell_type": "markdown",
   "id": "numerous-cream",
   "metadata": {},
   "source": [
    "P(B): the probability  a digital product is introduced.<br>\n",
    "It is the total probability of companies introducing digital products independent of growth of 11%.<br>\n",
    "It is the sum of the joint probabilities of digital products and 11% growth or not.<br>"
   ]
  },
  {
   "cell_type": "code",
   "execution_count": 855,
   "id": "handmade-circuit",
   "metadata": {},
   "outputs": [
    {
     "name": "stdout",
     "output_type": "stream",
     "text": [
      "The probability of stock price growing 11% and digital products: 0.0195%\n",
      "The probability of stock price not growing 11% and digital products: 0.2037%\n",
      "The total probability: 0.2232\n"
     ]
    }
   ],
   "source": [
    "print(\"The probability of stock price growing 11% and digital products: {}%\".\\\n",
    "      format(P_A11 * P_DP_11))\n",
    "\n",
    "print(\"The probability of stock price not growing 11% and digital products: {}%\".\\\n",
    "      format((210/1000) * (1-0.03)))\n",
    "# The probability of not growing by 11% is higher given likelihood of only 3%\n",
    "\n",
    "P_DP = round(P_A11 * P_DP_11 + (210/1000) * (1-0.03),4)\n",
    "print(\"The total probability: {}\".format(P_DP))"
   ]
  },
  {
   "cell_type": "markdown",
   "id": "ordered-optimum",
   "metadata": {},
   "source": [
    "<b>Conditional probability</b><br>\n",
    "The probability that the stock will increase by 11% given digital products.<br>\n",
    "This is what we want to know.<br>\n",
    "P(A|B) = P(11|DP) "
   ]
  },
  {
   "cell_type": "code",
   "execution_count": 856,
   "id": "suitable-doctor",
   "metadata": {},
   "outputs": [
    {
     "name": "stdout",
     "output_type": "stream",
     "text": [
      "The probability that the stock will increase by 11% given digital products is 8.74%.\n"
     ]
    }
   ],
   "source": [
    "P_11_DP = P_A11 * P_DP_11 / P_DP\n",
    "\n",
    "print(\"The probability that the stock will increase by 11% given digital products is {}%.\".\\\n",
    "      format(round(P_11_DP,4)*100))"
   ]
  },
  {
   "cell_type": "markdown",
   "id": "vietnamese-rescue",
   "metadata": {},
   "source": [
    "<p>\n",
    "<b>Excercise: quality management</b><br>\n",
    "The tablet manufacturer is considering to increase the efficiency of the operations.<br>\n",
    "The quality assurance manager has gathered data about the failure rates of integrated\n",
    "circuits delivered by 4 suppliers.\n",
    "</p> \n",
    "\n",
    "<p>\n",
    "<b>What is the probability that a chip from a certain supplier taken out at ramdon \n",
    "from the whole delivery (sample space) is broken?</b><br>\n",
    "P(A|B) = P(Supplier | Failure) = X\n",
    "</p> \n"
   ]
  },
  {
   "cell_type": "code",
   "execution_count": 857,
   "id": "becoming-challenge",
   "metadata": {},
   "outputs": [
    {
     "name": "stdout",
     "output_type": "stream",
     "text": [
      "{'P1_F_Wimtel': 0.4, 'P2_F_DMA': 0.2, 'P3_F_TSMY': 0.2, 'P4_F_Momsung': 0.2}\n"
     ]
    }
   ],
   "source": [
    "# Marginal probabilities\n",
    "# P(Ai)\n",
    "P1_Wimtel = 0.4 \n",
    "P2_DMA = 0.2\n",
    "P3_TSMY = 0.2\n",
    "P4_Momsung = 0.2\n",
    "\n",
    "P_Fmp = {'P1_F_Wimtel': 0.4 , 'P2_F_DMA': 0.2, 'P3_F_TSMY': 0.2, 'P4_F_Momsung': 0.2}\n",
    "print(P_Fmp)"
   ]
  },
  {
   "cell_type": "code",
   "execution_count": 858,
   "id": "continental-centre",
   "metadata": {},
   "outputs": [
    {
     "name": "stdout",
     "output_type": "stream",
     "text": [
      "{'P1_F_Wimtel': 0.04, 'P2_F_DMA': 0.01, 'P3_F_TSMY': 0.017, 'P4_F_Momsung': 0.02}\n"
     ]
    }
   ],
   "source": [
    "# Conditional probabilities\n",
    "# P(B|A) = P(Failure | Supplier)\n",
    "P1_F_Wimtel = 0.04\n",
    "P2_F_DMA = 0.01\n",
    "P3_F_TSMY = 0.017\n",
    "P4_F_Momsung = 0.02\n",
    "\n",
    "P_F_cp = {'P1_F_Wimtel':P1_F_Wimtel , 'P2_F_DMA':P2_F_DMA , 'P3_F_TSMY':P3_F_TSMY, \n",
    "          'P4_F_Momsung':P4_F_Momsung}\n",
    "print(P_F_cp)"
   ]
  },
  {
   "cell_type": "code",
   "execution_count": 859,
   "id": "focused-feature",
   "metadata": {},
   "outputs": [
    {
     "name": "stdout",
     "output_type": "stream",
     "text": [
      "0.025400000000000002\n",
      "2.54\n"
     ]
    }
   ],
   "source": [
    "# Total probability of Failure\n",
    "# Sum(P(A and B)) or joint probabilities\n",
    "TP_F = P1_Wimtel * P1_F_Wimtel + P2_DMA * P2_F_DMA + P3_F_TSMY * P3_TSMY + P4_Momsung * P4_F_Momsung\n",
    "TP_F_Percent = round(TP_F*100,4)\n",
    "\n",
    "print(TP_F)\n",
    "print(TP_F_Percent)"
   ]
  },
  {
   "cell_type": "code",
   "execution_count": 860,
   "id": "commercial-democrat",
   "metadata": {},
   "outputs": [
    {
     "name": "stdout",
     "output_type": "stream",
     "text": [
      "{'P1_F_Wimtel': 0.6299, 'P2_F_DMA': 0.0787, 'P3_F_TSMY': 0.1339, 'P4_F_Momsung': 0.1575}\n"
     ]
    }
   ],
   "source": [
    "# P(A|B) = P(Supplier | Failure) = X\n",
    "\n",
    "Supplier_PFailure = {}\n",
    "\n",
    "for (k1,v1), (k2,v2) in zip(P_Fmp.items(), P_F_cp.items()):\n",
    "     Supplier_PFailure[k1] = round(v1 * v2 / TP_F,4)\n",
    "        \n",
    "print(Supplier_PFailure)"
   ]
  },
  {
   "cell_type": "code",
   "execution_count": 861,
   "id": "finnish-luxembourg",
   "metadata": {},
   "outputs": [
    {
     "data": {
      "text/html": [
       "<div>\n",
       "<style scoped>\n",
       "    .dataframe tbody tr th:only-of-type {\n",
       "        vertical-align: middle;\n",
       "    }\n",
       "\n",
       "    .dataframe tbody tr th {\n",
       "        vertical-align: top;\n",
       "    }\n",
       "\n",
       "    .dataframe thead th {\n",
       "        text-align: right;\n",
       "    }\n",
       "</style>\n",
       "<table border=\"1\" class=\"dataframe\">\n",
       "  <thead>\n",
       "    <tr style=\"text-align: right;\">\n",
       "      <th></th>\n",
       "      <th>P(Supplier|Failure)</th>\n",
       "      <th>%</th>\n",
       "    </tr>\n",
       "  </thead>\n",
       "  <tbody>\n",
       "    <tr>\n",
       "      <th>P1_F_Wimtel</th>\n",
       "      <td>0.6299</td>\n",
       "      <td>62.99</td>\n",
       "    </tr>\n",
       "    <tr>\n",
       "      <th>P2_F_DMA</th>\n",
       "      <td>0.0787</td>\n",
       "      <td>7.87</td>\n",
       "    </tr>\n",
       "    <tr>\n",
       "      <th>P3_F_TSMY</th>\n",
       "      <td>0.1339</td>\n",
       "      <td>13.39</td>\n",
       "    </tr>\n",
       "    <tr>\n",
       "      <th>P4_F_Momsung</th>\n",
       "      <td>0.1575</td>\n",
       "      <td>15.75</td>\n",
       "    </tr>\n",
       "  </tbody>\n",
       "</table>\n",
       "</div>"
      ],
      "text/plain": [
       "              P(Supplier|Failure)      %\n",
       "P1_F_Wimtel                0.6299  62.99\n",
       "P2_F_DMA                   0.0787   7.87\n",
       "P3_F_TSMY                  0.1339  13.39\n",
       "P4_F_Momsung               0.1575  15.75"
      ]
     },
     "execution_count": 861,
     "metadata": {},
     "output_type": "execute_result"
    }
   ],
   "source": [
    "Supplier_PFailure_df = \\\n",
    "pd.DataFrame(Supplier_PFailure.values(), index=Supplier_PFailure.keys(), columns=['P(Supplier|Failure)'])\n",
    "\n",
    "for i,row in Supplier_PFailure_df.iterrows():\n",
    "    Supplier_PFailure_df.loc[i,'%'] = row[0]*100\n",
    "   \n",
    "\n",
    "Supplier_PFailure_df "
   ]
  },
  {
   "cell_type": "markdown",
   "id": "behind-canyon",
   "metadata": {},
   "source": [
    "The probability the broken chip is by Wimtel is 62.99%.<br> \n",
    "This does not mean Wimtel is causally of lower quality as the prevalence is higher. "
   ]
  },
  {
   "cell_type": "markdown",
   "id": "african-hacker",
   "metadata": {},
   "source": [
    "<p>\n",
    "<b>Excercise: laboratory virus test</b><br>\n",
    "You want to make sure you are not infected with a respiratory virus\n",
    "and a laboratory test is conducted.\n",
    "It is assumed the virus infects every 1 of 4000 people in your region P(A).\n",
    "The test predicts the virus with an accuracy of 89% (<b>true positive rate</b>). \n",
    "Inversely the <b>false positve rate</b> of predicting the virus wrongly, when there is no virus is 11%.\n",
    "The probability of not predicting the virus, but the virus is there is 6% (<b>false negative rate</b>).\n",
    "</p> \n",
    "\n",
    "<p>\n",
    "<b>What is the probability of carrying the virus if the test is positive?</b>\n",
    "</p> "
   ]
  },
  {
   "cell_type": "code",
   "execution_count": 862,
   "id": "collect-setting",
   "metadata": {},
   "outputs": [
    {
     "name": "stdout",
     "output_type": "stream",
     "text": [
      "Prevalence of virus in region: 0.00025\n",
      "Prevalence of not virus in region: 0.99975\n"
     ]
    }
   ],
   "source": [
    "# Marginal probabilities: P(A) = P(prevalence of virus)\n",
    "P_virus = 1/4000\n",
    "print(\"Prevalence of virus in region: {}\". format(P_virus))\n",
    "\n",
    "P_virus_not = 1 - P_virus\n",
    "print(\"Prevalence of not virus in region: {}\". format(P_virus_not))"
   ]
  },
  {
   "cell_type": "code",
   "execution_count": 863,
   "id": "anonymous-buffalo",
   "metadata": {},
   "outputs": [
    {
     "name": "stdout",
     "output_type": "stream",
     "text": [
      "Probability of diagnosed positive when carrying the virus: 0.94\n",
      "Probability of diagnosed positive when not carrying the virus: 0.99975\n"
     ]
    }
   ],
   "source": [
    "# Conditional probabilities: \n",
    "# P(B|A) = P(being diagnosed positve | carrying the virus) - that is what the test want to do\n",
    "P_pos_virus = 1 - 0.06 # False negative\n",
    "print(\"Probability of diagnosed positive when carrying the virus: {}\".format(P_pos_virus))\n",
    "\n",
    "# P(B, A-) = P(being diagnosed positive | not carrying the virus) - that is what the test want not to do\n",
    "P_pos_notvirus = 0.11\n",
    "print(\"Probability of diagnosed positive when not carrying the virus: {}\".format(P_virus_not))"
   ]
  },
  {
   "cell_type": "markdown",
   "id": "egyptian-representation",
   "metadata": {},
   "source": [
    "A false negative might be considered more harmful than a false positive.<br>\n",
    "In case the virus is given, but the diagnosis is not, then a path of infection is open.<br>\n",
    "Of course in case of an infection is diagnosed but there isn't one a healthy person might have to go into quarantine."
   ]
  },
  {
   "cell_type": "code",
   "execution_count": 864,
   "id": "following-switch",
   "metadata": {},
   "outputs": [
    {
     "name": "stdout",
     "output_type": "stream",
     "text": [
      "Total probability of carrying the virus: 0.1102075\n"
     ]
    }
   ],
   "source": [
    "TP_virus = P_virus*P_pos_virus + P_virus_not * P_pos_notvirus\n",
    "print(\"Total probability of carrying the virus: {}\".format(TP_virus))"
   ]
  },
  {
   "cell_type": "code",
   "execution_count": 865,
   "id": "alleged-cyprus",
   "metadata": {},
   "outputs": [
    {
     "name": "stdout",
     "output_type": "stream",
     "text": [
      "Probability carrying the virus, when diagnosed positive: 0.0021323412653403806\n"
     ]
    }
   ],
   "source": [
    "# Bayes: P(A|B) = P(carrying virus|diagnosed Positive)\n",
    "P_v_p = (P_virus * P_pos_virus) / TP_virus\n",
    "print(\"Probability carrying the virus, when diagnosed positive: {}\".format(P_v_p))"
   ]
  },
  {
   "cell_type": "markdown",
   "id": "suspended-robinson",
   "metadata": {},
   "source": [
    "The laboratory improved the test and this resulted in new input values."
   ]
  },
  {
   "cell_type": "code",
   "execution_count": 866,
   "id": "cathedral-driver",
   "metadata": {},
   "outputs": [
    {
     "name": "stdout",
     "output_type": "stream",
     "text": [
      "Prevalence of virus in region: 0.00025\n",
      "Prevalence of not virus in region: 0.99975\n",
      "Probability of diagnosed positive when carrying the virus: 1\n",
      "Probability of diagnosed positive when not carrying the virus: 0.99975\n",
      "Total probability of carrying the virus: 0.020245000000000003\n",
      "Probability carrying the virus, when diagnosed positive: 0.012348728081007655\n"
     ]
    }
   ],
   "source": [
    "# Marginal probabilities: P(A) = P(prevalence of virus)\n",
    "P_virus_2 = 1/4000\n",
    "print(\"Prevalence of virus in region: {}\". format(P_virus))\n",
    "\n",
    "P_virus_not_2 = 1 - P_virus_2\n",
    "print(\"Prevalence of not virus in region: {}\". format(P_virus_not_2))\n",
    "\n",
    "# Conditional probabilities: \n",
    "# P(B|A) = P(being diagnosed positve | carrying the virus) - that is what the test want to do\n",
    "P_pos_virus_2 = 1 # False negative\n",
    "print(\"Probability of diagnosed positive when carrying the virus: {}\".format(P_pos_virus_2))\n",
    "\n",
    "# P(B, A-) = P(being diagnosed positive | not carrying the virus) - that is what the test want not to do\n",
    "P_pos_notvirus_2 = 0.02\n",
    "print(\"Probability of diagnosed positive when not carrying the virus: {}\".format(P_virus_not_2))\n",
    "\n",
    "TP_virus_2 = P_virus_2*P_pos_virus_2 + P_virus_not_2 * P_pos_notvirus_2\n",
    "print(\"Total probability of carrying the virus: {}\".format(TP_virus_2))\n",
    "\n",
    "# Bayes: P(A|B) = P(carrying virus|diagnosed Positive)\n",
    "P_v_p_2 = (P_virus_2 * P_pos_virus_2) / TP_virus_2\n",
    "print(\"Probability carrying the virus, when diagnosed positive: {}\".format(P_v_p_2))"
   ]
  },
  {
   "cell_type": "code",
   "execution_count": null,
   "id": "random-church",
   "metadata": {},
   "outputs": [],
   "source": []
  }
 ],
 "metadata": {
  "kernelspec": {
   "display_name": "Python [conda env:root] *",
   "language": "python",
   "name": "conda-root-py"
  },
  "language_info": {
   "codemirror_mode": {
    "name": "ipython",
    "version": 3
   },
   "file_extension": ".py",
   "mimetype": "text/x-python",
   "name": "python",
   "nbconvert_exporter": "python",
   "pygments_lexer": "ipython3",
   "version": "3.7.9"
  }
 },
 "nbformat": 4,
 "nbformat_minor": 5
}
